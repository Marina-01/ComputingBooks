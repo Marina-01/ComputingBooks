{
 "cells": [
  {
   "cell_type": "markdown",
   "id": "498b8418",
   "metadata": {
    "papermill": {
     "duration": 0.008389,
     "end_time": "2024-06-12T21:10:16.098413",
     "exception": false,
     "start_time": "2024-06-12T21:10:16.090024",
     "status": "completed"
    },
    "tags": []
   },
   "source": [
    "# **Importing Data & Dependencies**"
   ]
  },
  {
   "cell_type": "code",
   "execution_count": 1,
   "id": "97b4c0c7",
   "metadata": {
    "execution": {
     "iopub.execute_input": "2024-06-12T21:10:16.115876Z",
     "iopub.status.busy": "2024-06-12T21:10:16.115439Z",
     "iopub.status.idle": "2024-06-12T21:10:33.617968Z",
     "shell.execute_reply": "2024-06-12T21:10:33.616835Z"
    },
    "papermill": {
     "duration": 17.514589,
     "end_time": "2024-06-12T21:10:33.620896",
     "exception": false,
     "start_time": "2024-06-12T21:10:16.106307",
     "status": "completed"
    },
    "tags": []
   },
   "outputs": [
    {
     "name": "stderr",
     "output_type": "stream",
     "text": [
      "2024-06-12 21:10:19.656519: E external/local_xla/xla/stream_executor/cuda/cuda_dnn.cc:9261] Unable to register cuDNN factory: Attempting to register factory for plugin cuDNN when one has already been registered\n",
      "2024-06-12 21:10:19.656701: E external/local_xla/xla/stream_executor/cuda/cuda_fft.cc:607] Unable to register cuFFT factory: Attempting to register factory for plugin cuFFT when one has already been registered\n",
      "2024-06-12 21:10:19.824685: E external/local_xla/xla/stream_executor/cuda/cuda_blas.cc:1515] Unable to register cuBLAS factory: Attempting to register factory for plugin cuBLAS when one has already been registered\n"
     ]
    }
   ],
   "source": [
    "import pandas as pd\n",
    "import numpy as np\n",
    "import matplotlib.pyplot as plt\n",
    "import tensorflow as tf\n",
    "\n",
    "from sklearn.model_selection import train_test_split\n",
    "from sklearn.preprocessing import StandardScaler, OneHotEncoder\n",
    "from sklearn.compose import ColumnTransformer\n",
    "\n",
    "from keras.models import Sequential\n",
    "from keras.layers import Dense, Dropout\n",
    "\n",
    "from tensorflow.keras.optimizers import SGD\n",
    "from tensorflow.keras.callbacks import EarlyStopping\n",
    "\n",
    "import warnings\n",
    "warnings.filterwarnings('ignore')"
   ]
  },
  {
   "cell_type": "code",
   "execution_count": 2,
   "id": "e2902680",
   "metadata": {
    "execution": {
     "iopub.execute_input": "2024-06-12T21:10:33.639036Z",
     "iopub.status.busy": "2024-06-12T21:10:33.638313Z",
     "iopub.status.idle": "2024-06-12T21:10:37.807263Z",
     "shell.execute_reply": "2024-06-12T21:10:37.805872Z"
    },
    "papermill": {
     "duration": 4.180998,
     "end_time": "2024-06-12T21:10:37.810236",
     "exception": false,
     "start_time": "2024-06-12T21:10:33.629238",
     "status": "completed"
    },
    "tags": []
   },
   "outputs": [],
   "source": [
    "users_df = pd.read_csv(\"/kaggle/input/users-csv/Users.csv\")\n",
    "ratings_df = pd.read_csv(\"/kaggle/input/ratings-csv/Ratings.csv\")\n",
    "books_df = pd.read_csv(\"/kaggle/input/books-csv/Books.csv\")"
   ]
  },
  {
   "cell_type": "code",
   "execution_count": 3,
   "id": "112417d7",
   "metadata": {
    "execution": {
     "iopub.execute_input": "2024-06-12T21:10:37.828659Z",
     "iopub.status.busy": "2024-06-12T21:10:37.828259Z",
     "iopub.status.idle": "2024-06-12T21:10:37.854404Z",
     "shell.execute_reply": "2024-06-12T21:10:37.853157Z"
    },
    "papermill": {
     "duration": 0.038545,
     "end_time": "2024-06-12T21:10:37.857078",
     "exception": false,
     "start_time": "2024-06-12T21:10:37.818533",
     "status": "completed"
    },
    "tags": []
   },
   "outputs": [
    {
     "data": {
      "text/html": [
       "<div>\n",
       "<style scoped>\n",
       "    .dataframe tbody tr th:only-of-type {\n",
       "        vertical-align: middle;\n",
       "    }\n",
       "\n",
       "    .dataframe tbody tr th {\n",
       "        vertical-align: top;\n",
       "    }\n",
       "\n",
       "    .dataframe thead th {\n",
       "        text-align: right;\n",
       "    }\n",
       "</style>\n",
       "<table border=\"1\" class=\"dataframe\">\n",
       "  <thead>\n",
       "    <tr style=\"text-align: right;\">\n",
       "      <th></th>\n",
       "      <th>User-ID</th>\n",
       "      <th>Location</th>\n",
       "      <th>Age</th>\n",
       "    </tr>\n",
       "  </thead>\n",
       "  <tbody>\n",
       "    <tr>\n",
       "      <th>0</th>\n",
       "      <td>1</td>\n",
       "      <td>nyc, new york, usa</td>\n",
       "      <td>NaN</td>\n",
       "    </tr>\n",
       "    <tr>\n",
       "      <th>1</th>\n",
       "      <td>2</td>\n",
       "      <td>stockton, california, usa</td>\n",
       "      <td>18.0</td>\n",
       "    </tr>\n",
       "    <tr>\n",
       "      <th>2</th>\n",
       "      <td>3</td>\n",
       "      <td>moscow, yukon territory, russia</td>\n",
       "      <td>NaN</td>\n",
       "    </tr>\n",
       "    <tr>\n",
       "      <th>3</th>\n",
       "      <td>4</td>\n",
       "      <td>porto, v.n.gaia, portugal</td>\n",
       "      <td>17.0</td>\n",
       "    </tr>\n",
       "    <tr>\n",
       "      <th>4</th>\n",
       "      <td>5</td>\n",
       "      <td>farnborough, hants, united kingdom</td>\n",
       "      <td>NaN</td>\n",
       "    </tr>\n",
       "  </tbody>\n",
       "</table>\n",
       "</div>"
      ],
      "text/plain": [
       "   User-ID                            Location   Age\n",
       "0        1                  nyc, new york, usa   NaN\n",
       "1        2           stockton, california, usa  18.0\n",
       "2        3     moscow, yukon territory, russia   NaN\n",
       "3        4           porto, v.n.gaia, portugal  17.0\n",
       "4        5  farnborough, hants, united kingdom   NaN"
      ]
     },
     "execution_count": 3,
     "metadata": {},
     "output_type": "execute_result"
    }
   ],
   "source": [
    "users_df.head()"
   ]
  },
  {
   "cell_type": "code",
   "execution_count": 4,
   "id": "59683a3c",
   "metadata": {
    "execution": {
     "iopub.execute_input": "2024-06-12T21:10:37.875533Z",
     "iopub.status.busy": "2024-06-12T21:10:37.875119Z",
     "iopub.status.idle": "2024-06-12T21:10:37.887375Z",
     "shell.execute_reply": "2024-06-12T21:10:37.886137Z"
    },
    "papermill": {
     "duration": 0.025331,
     "end_time": "2024-06-12T21:10:37.890468",
     "exception": false,
     "start_time": "2024-06-12T21:10:37.865137",
     "status": "completed"
    },
    "tags": []
   },
   "outputs": [
    {
     "data": {
      "text/html": [
       "<div>\n",
       "<style scoped>\n",
       "    .dataframe tbody tr th:only-of-type {\n",
       "        vertical-align: middle;\n",
       "    }\n",
       "\n",
       "    .dataframe tbody tr th {\n",
       "        vertical-align: top;\n",
       "    }\n",
       "\n",
       "    .dataframe thead th {\n",
       "        text-align: right;\n",
       "    }\n",
       "</style>\n",
       "<table border=\"1\" class=\"dataframe\">\n",
       "  <thead>\n",
       "    <tr style=\"text-align: right;\">\n",
       "      <th></th>\n",
       "      <th>User-ID</th>\n",
       "      <th>ISBN</th>\n",
       "      <th>Book-Rating</th>\n",
       "    </tr>\n",
       "  </thead>\n",
       "  <tbody>\n",
       "    <tr>\n",
       "      <th>0</th>\n",
       "      <td>276725</td>\n",
       "      <td>034545104X</td>\n",
       "      <td>0</td>\n",
       "    </tr>\n",
       "    <tr>\n",
       "      <th>1</th>\n",
       "      <td>276726</td>\n",
       "      <td>0155061224</td>\n",
       "      <td>5</td>\n",
       "    </tr>\n",
       "    <tr>\n",
       "      <th>2</th>\n",
       "      <td>276727</td>\n",
       "      <td>0446520802</td>\n",
       "      <td>0</td>\n",
       "    </tr>\n",
       "    <tr>\n",
       "      <th>3</th>\n",
       "      <td>276729</td>\n",
       "      <td>052165615X</td>\n",
       "      <td>3</td>\n",
       "    </tr>\n",
       "    <tr>\n",
       "      <th>4</th>\n",
       "      <td>276729</td>\n",
       "      <td>0521795028</td>\n",
       "      <td>6</td>\n",
       "    </tr>\n",
       "  </tbody>\n",
       "</table>\n",
       "</div>"
      ],
      "text/plain": [
       "   User-ID        ISBN  Book-Rating\n",
       "0   276725  034545104X            0\n",
       "1   276726  0155061224            5\n",
       "2   276727  0446520802            0\n",
       "3   276729  052165615X            3\n",
       "4   276729  0521795028            6"
      ]
     },
     "execution_count": 4,
     "metadata": {},
     "output_type": "execute_result"
    }
   ],
   "source": [
    "ratings_df.head()"
   ]
  },
  {
   "cell_type": "code",
   "execution_count": 5,
   "id": "c52fe7aa",
   "metadata": {
    "execution": {
     "iopub.execute_input": "2024-06-12T21:10:37.910365Z",
     "iopub.status.busy": "2024-06-12T21:10:37.909944Z",
     "iopub.status.idle": "2024-06-12T21:10:37.927683Z",
     "shell.execute_reply": "2024-06-12T21:10:37.926376Z"
    },
    "papermill": {
     "duration": 0.031102,
     "end_time": "2024-06-12T21:10:37.930424",
     "exception": false,
     "start_time": "2024-06-12T21:10:37.899322",
     "status": "completed"
    },
    "tags": []
   },
   "outputs": [
    {
     "data": {
      "text/html": [
       "<div>\n",
       "<style scoped>\n",
       "    .dataframe tbody tr th:only-of-type {\n",
       "        vertical-align: middle;\n",
       "    }\n",
       "\n",
       "    .dataframe tbody tr th {\n",
       "        vertical-align: top;\n",
       "    }\n",
       "\n",
       "    .dataframe thead th {\n",
       "        text-align: right;\n",
       "    }\n",
       "</style>\n",
       "<table border=\"1\" class=\"dataframe\">\n",
       "  <thead>\n",
       "    <tr style=\"text-align: right;\">\n",
       "      <th></th>\n",
       "      <th>ISBN</th>\n",
       "      <th>Book-Title</th>\n",
       "      <th>Book-Author</th>\n",
       "      <th>Year-Of-Publication</th>\n",
       "      <th>Publisher</th>\n",
       "      <th>Image-URL-S</th>\n",
       "      <th>Image-URL-M</th>\n",
       "      <th>Image-URL-L</th>\n",
       "    </tr>\n",
       "  </thead>\n",
       "  <tbody>\n",
       "    <tr>\n",
       "      <th>0</th>\n",
       "      <td>0195153448</td>\n",
       "      <td>Classical Mythology</td>\n",
       "      <td>Mark P. O. Morford</td>\n",
       "      <td>2002</td>\n",
       "      <td>Oxford University Press</td>\n",
       "      <td>http://images.amazon.com/images/P/0195153448.0...</td>\n",
       "      <td>http://images.amazon.com/images/P/0195153448.0...</td>\n",
       "      <td>http://images.amazon.com/images/P/0195153448.0...</td>\n",
       "    </tr>\n",
       "    <tr>\n",
       "      <th>1</th>\n",
       "      <td>0002005018</td>\n",
       "      <td>Clara Callan</td>\n",
       "      <td>Richard Bruce Wright</td>\n",
       "      <td>2001</td>\n",
       "      <td>HarperFlamingo Canada</td>\n",
       "      <td>http://images.amazon.com/images/P/0002005018.0...</td>\n",
       "      <td>http://images.amazon.com/images/P/0002005018.0...</td>\n",
       "      <td>http://images.amazon.com/images/P/0002005018.0...</td>\n",
       "    </tr>\n",
       "    <tr>\n",
       "      <th>2</th>\n",
       "      <td>0060973129</td>\n",
       "      <td>Decision in Normandy</td>\n",
       "      <td>Carlo D'Este</td>\n",
       "      <td>1991</td>\n",
       "      <td>HarperPerennial</td>\n",
       "      <td>http://images.amazon.com/images/P/0060973129.0...</td>\n",
       "      <td>http://images.amazon.com/images/P/0060973129.0...</td>\n",
       "      <td>http://images.amazon.com/images/P/0060973129.0...</td>\n",
       "    </tr>\n",
       "    <tr>\n",
       "      <th>3</th>\n",
       "      <td>0374157065</td>\n",
       "      <td>Flu: The Story of the Great Influenza Pandemic...</td>\n",
       "      <td>Gina Bari Kolata</td>\n",
       "      <td>1999</td>\n",
       "      <td>Farrar Straus Giroux</td>\n",
       "      <td>http://images.amazon.com/images/P/0374157065.0...</td>\n",
       "      <td>http://images.amazon.com/images/P/0374157065.0...</td>\n",
       "      <td>http://images.amazon.com/images/P/0374157065.0...</td>\n",
       "    </tr>\n",
       "    <tr>\n",
       "      <th>4</th>\n",
       "      <td>0393045218</td>\n",
       "      <td>The Mummies of Urumchi</td>\n",
       "      <td>E. J. W. Barber</td>\n",
       "      <td>1999</td>\n",
       "      <td>W. W. Norton &amp;amp; Company</td>\n",
       "      <td>http://images.amazon.com/images/P/0393045218.0...</td>\n",
       "      <td>http://images.amazon.com/images/P/0393045218.0...</td>\n",
       "      <td>http://images.amazon.com/images/P/0393045218.0...</td>\n",
       "    </tr>\n",
       "  </tbody>\n",
       "</table>\n",
       "</div>"
      ],
      "text/plain": [
       "         ISBN                                         Book-Title  \\\n",
       "0  0195153448                                Classical Mythology   \n",
       "1  0002005018                                       Clara Callan   \n",
       "2  0060973129                               Decision in Normandy   \n",
       "3  0374157065  Flu: The Story of the Great Influenza Pandemic...   \n",
       "4  0393045218                             The Mummies of Urumchi   \n",
       "\n",
       "            Book-Author Year-Of-Publication                   Publisher  \\\n",
       "0    Mark P. O. Morford                2002     Oxford University Press   \n",
       "1  Richard Bruce Wright                2001       HarperFlamingo Canada   \n",
       "2          Carlo D'Este                1991             HarperPerennial   \n",
       "3      Gina Bari Kolata                1999        Farrar Straus Giroux   \n",
       "4       E. J. W. Barber                1999  W. W. Norton &amp; Company   \n",
       "\n",
       "                                         Image-URL-S  \\\n",
       "0  http://images.amazon.com/images/P/0195153448.0...   \n",
       "1  http://images.amazon.com/images/P/0002005018.0...   \n",
       "2  http://images.amazon.com/images/P/0060973129.0...   \n",
       "3  http://images.amazon.com/images/P/0374157065.0...   \n",
       "4  http://images.amazon.com/images/P/0393045218.0...   \n",
       "\n",
       "                                         Image-URL-M  \\\n",
       "0  http://images.amazon.com/images/P/0195153448.0...   \n",
       "1  http://images.amazon.com/images/P/0002005018.0...   \n",
       "2  http://images.amazon.com/images/P/0060973129.0...   \n",
       "3  http://images.amazon.com/images/P/0374157065.0...   \n",
       "4  http://images.amazon.com/images/P/0393045218.0...   \n",
       "\n",
       "                                         Image-URL-L  \n",
       "0  http://images.amazon.com/images/P/0195153448.0...  \n",
       "1  http://images.amazon.com/images/P/0002005018.0...  \n",
       "2  http://images.amazon.com/images/P/0060973129.0...  \n",
       "3  http://images.amazon.com/images/P/0374157065.0...  \n",
       "4  http://images.amazon.com/images/P/0393045218.0...  "
      ]
     },
     "execution_count": 5,
     "metadata": {},
     "output_type": "execute_result"
    }
   ],
   "source": [
    "books_df.head()"
   ]
  },
  {
   "cell_type": "markdown",
   "id": "c8dbccb1",
   "metadata": {
    "papermill": {
     "duration": 0.00849,
     "end_time": "2024-06-12T21:10:37.949595",
     "exception": false,
     "start_time": "2024-06-12T21:10:37.941105",
     "status": "completed"
    },
    "tags": []
   },
   "source": [
    "# **Preprocessing Data**"
   ]
  },
  {
   "cell_type": "code",
   "execution_count": 6,
   "id": "66662272",
   "metadata": {
    "execution": {
     "iopub.execute_input": "2024-06-12T21:10:37.970243Z",
     "iopub.status.busy": "2024-06-12T21:10:37.969738Z",
     "iopub.status.idle": "2024-06-12T21:10:40.665732Z",
     "shell.execute_reply": "2024-06-12T21:10:40.664362Z"
    },
    "papermill": {
     "duration": 2.709711,
     "end_time": "2024-06-12T21:10:40.669060",
     "exception": false,
     "start_time": "2024-06-12T21:10:37.959349",
     "status": "completed"
    },
    "tags": []
   },
   "outputs": [],
   "source": [
    "# Dropping Image Columns\n",
    "books_df.drop(books_df.columns[5:], axis=1, inplace=True)\n",
    "\n",
    "# Merge datasets\n",
    "merged_df = pd.merge(ratings_df, books_df, on='ISBN')\n",
    "final_df = pd.merge(merged_df, users_df, on='User-ID')\n",
    "\n",
    "# Drop NA values\n",
    "final_df.dropna(inplace=True)"
   ]
  },
  {
   "cell_type": "code",
   "execution_count": 7,
   "id": "d6dc741c",
   "metadata": {
    "execution": {
     "iopub.execute_input": "2024-06-12T21:10:40.688707Z",
     "iopub.status.busy": "2024-06-12T21:10:40.688282Z",
     "iopub.status.idle": "2024-06-12T21:10:41.255181Z",
     "shell.execute_reply": "2024-06-12T21:10:41.253858Z"
    },
    "papermill": {
     "duration": 0.579946,
     "end_time": "2024-06-12T21:10:41.258131",
     "exception": false,
     "start_time": "2024-06-12T21:10:40.678185",
     "status": "completed"
    },
    "tags": []
   },
   "outputs": [],
   "source": [
    "# Replace non-numeric values with '0'\n",
    "final_df['Year-Of-Publication'] = final_df['Year-Of-Publication'].replace(['Gallimard', 'DK Publishing Inc'], '0')\n",
    "\n",
    "# Convert specific columns to integers\n",
    "final_df['User-ID'] = final_df['User-ID'].astype(int)\n",
    "final_df['Book-Rating'] = final_df['Book-Rating'].astype(int)\n",
    "final_df['Age'] = final_df['Age'].astype(int)\n",
    "final_df['Year-Of-Publication'] = final_df['Year-Of-Publication'].astype(int)\n",
    "\n",
    "# Convert specific columns to strings\n",
    "final_df['ISBN'] = final_df['ISBN'].astype(str)\n",
    "final_df['Book-Title'] = final_df['Book-Title'].astype(str)\n",
    "final_df['Book-Author'] = final_df['Book-Author'].astype(str)\n",
    "final_df['Publisher'] = final_df['Publisher'].astype(str)\n",
    "final_df['Location'] = final_df['Location'].astype(str)"
   ]
  },
  {
   "cell_type": "code",
   "execution_count": 8,
   "id": "1d16af4f",
   "metadata": {
    "execution": {
     "iopub.execute_input": "2024-06-12T21:10:41.278214Z",
     "iopub.status.busy": "2024-06-12T21:10:41.277738Z",
     "iopub.status.idle": "2024-06-12T21:10:41.285182Z",
     "shell.execute_reply": "2024-06-12T21:10:41.283849Z"
    },
    "papermill": {
     "duration": 0.020561,
     "end_time": "2024-06-12T21:10:41.288097",
     "exception": false,
     "start_time": "2024-06-12T21:10:41.267536",
     "status": "completed"
    },
    "tags": []
   },
   "outputs": [],
   "source": [
    "# Define which columns are categorical and numerical\n",
    "categorical_cols = ['ISBN', 'Book-Title', 'Book-Author', 'Publisher', 'Location']\n",
    "numerical_cols = ['User-ID', 'Age', 'Year-Of-Publication']\n",
    "\n",
    "preprocessor = ColumnTransformer(\n",
    "    transformers=[\n",
    "        ('cat', OneHotEncoder(handle_unknown='ignore'), categorical_cols),\n",
    "        ('num', StandardScaler(), numerical_cols)\n",
    "    ],\n",
    "    remainder='passthrough'\n",
    ")"
   ]
  },
  {
   "cell_type": "code",
   "execution_count": 9,
   "id": "2b393e1c",
   "metadata": {
    "execution": {
     "iopub.execute_input": "2024-06-12T21:10:41.307900Z",
     "iopub.status.busy": "2024-06-12T21:10:41.307443Z",
     "iopub.status.idle": "2024-06-12T21:10:42.069420Z",
     "shell.execute_reply": "2024-06-12T21:10:42.068020Z"
    },
    "papermill": {
     "duration": 0.77543,
     "end_time": "2024-06-12T21:10:42.072303",
     "exception": false,
     "start_time": "2024-06-12T21:10:41.296873",
     "status": "completed"
    },
    "tags": []
   },
   "outputs": [],
   "source": [
    "# Take a random subset a sample of the data\n",
    "subset_df = final_df.sample(frac=0.15, random_state=42)\n",
    "\n",
    "# Split data into train and test sets\n",
    "X = final_df.drop(['Book-Rating'], axis=1)\n",
    "y = final_df['Book-Rating']\n",
    "X_train, X_test, y_train, y_test = train_test_split(X, y, test_size=0.2, random_state=42)"
   ]
  },
  {
   "cell_type": "code",
   "execution_count": 10,
   "id": "89c62f7a",
   "metadata": {
    "execution": {
     "iopub.execute_input": "2024-06-12T21:10:42.092683Z",
     "iopub.status.busy": "2024-06-12T21:10:42.091687Z",
     "iopub.status.idle": "2024-06-12T21:10:49.762908Z",
     "shell.execute_reply": "2024-06-12T21:10:49.761760Z"
    },
    "papermill": {
     "duration": 7.684434,
     "end_time": "2024-06-12T21:10:49.765770",
     "exception": false,
     "start_time": "2024-06-12T21:10:42.081336",
     "status": "completed"
    },
    "tags": []
   },
   "outputs": [],
   "source": [
    "# Fit and transform preprocessing on training data, and transform on test data\n",
    "X_train_preprocessed = preprocessor.fit_transform(X_train)\n",
    "X_test_preprocessed = preprocessor.transform(X_test)"
   ]
  },
  {
   "cell_type": "markdown",
   "id": "d4fbaa37",
   "metadata": {
    "papermill": {
     "duration": 0.008529,
     "end_time": "2024-06-12T21:10:49.782885",
     "exception": false,
     "start_time": "2024-06-12T21:10:49.774356",
     "status": "completed"
    },
    "tags": []
   },
   "source": [
    "# **The Tensorflow Model**"
   ]
  },
  {
   "cell_type": "markdown",
   "id": "9ae61758",
   "metadata": {
    "papermill": {
     "duration": 0.008309,
     "end_time": "2024-06-12T21:10:49.799760",
     "exception": false,
     "start_time": "2024-06-12T21:10:49.791451",
     "status": "completed"
    },
    "tags": []
   },
   "source": [
    "This model is predicting Book-Rating"
   ]
  },
  {
   "cell_type": "code",
   "execution_count": 11,
   "id": "4ebfdcba",
   "metadata": {
    "execution": {
     "iopub.execute_input": "2024-06-12T21:10:49.818926Z",
     "iopub.status.busy": "2024-06-12T21:10:49.818489Z",
     "iopub.status.idle": "2024-06-12T21:12:59.573448Z",
     "shell.execute_reply": "2024-06-12T21:12:59.572165Z"
    },
    "papermill": {
     "duration": 129.768205,
     "end_time": "2024-06-12T21:12:59.576510",
     "exception": false,
     "start_time": "2024-06-12T21:10:49.808305",
     "status": "completed"
    },
    "tags": []
   },
   "outputs": [
    {
     "name": "stdout",
     "output_type": "stream",
     "text": [
      "Epoch 1/10\n",
      "\u001b[1m118/118\u001b[0m \u001b[32m━━━━━━━━━━━━━━━━━━━━\u001b[0m\u001b[37m\u001b[0m \u001b[1m17s\u001b[0m 137ms/step - loss: 16.2576 - mean_squared_error: 16.2576 - val_loss: 14.9155 - val_mean_squared_error: 14.9155\n",
      "Epoch 2/10\n",
      "\u001b[1m118/118\u001b[0m \u001b[32m━━━━━━━━━━━━━━━━━━━━\u001b[0m\u001b[37m\u001b[0m \u001b[1m16s\u001b[0m 134ms/step - loss: 14.7603 - mean_squared_error: 14.7603 - val_loss: 13.8322 - val_mean_squared_error: 13.8322\n",
      "Epoch 3/10\n",
      "\u001b[1m118/118\u001b[0m \u001b[32m━━━━━━━━━━━━━━━━━━━━\u001b[0m\u001b[37m\u001b[0m \u001b[1m16s\u001b[0m 132ms/step - loss: 13.3320 - mean_squared_error: 13.3320 - val_loss: 12.8687 - val_mean_squared_error: 12.8687\n",
      "Epoch 4/10\n",
      "\u001b[1m118/118\u001b[0m \u001b[32m━━━━━━━━━━━━━━━━━━━━\u001b[0m\u001b[37m\u001b[0m \u001b[1m16s\u001b[0m 135ms/step - loss: 12.3100 - mean_squared_error: 12.3100 - val_loss: 13.2479 - val_mean_squared_error: 13.2479\n",
      "Epoch 5/10\n",
      "\u001b[1m118/118\u001b[0m \u001b[32m━━━━━━━━━━━━━━━━━━━━\u001b[0m\u001b[37m\u001b[0m \u001b[1m16s\u001b[0m 133ms/step - loss: 11.9356 - mean_squared_error: 11.9356 - val_loss: 12.4539 - val_mean_squared_error: 12.4539\n",
      "Epoch 6/10\n",
      "\u001b[1m118/118\u001b[0m \u001b[32m━━━━━━━━━━━━━━━━━━━━\u001b[0m\u001b[37m\u001b[0m \u001b[1m16s\u001b[0m 135ms/step - loss: 11.6689 - mean_squared_error: 11.6689 - val_loss: 12.5212 - val_mean_squared_error: 12.5212\n",
      "Epoch 7/10\n",
      "\u001b[1m118/118\u001b[0m \u001b[32m━━━━━━━━━━━━━━━━━━━━\u001b[0m\u001b[37m\u001b[0m \u001b[1m16s\u001b[0m 134ms/step - loss: 11.4015 - mean_squared_error: 11.4015 - val_loss: 12.4580 - val_mean_squared_error: 12.4580\n",
      "Epoch 8/10\n",
      "\u001b[1m118/118\u001b[0m \u001b[32m━━━━━━━━━━━━━━━━━━━━\u001b[0m\u001b[37m\u001b[0m \u001b[1m16s\u001b[0m 136ms/step - loss: 11.0097 - mean_squared_error: 11.0097 - val_loss: 13.2433 - val_mean_squared_error: 13.2433\n"
     ]
    }
   ],
   "source": [
    "# Define and compile the model with SGD optimizer and a lower learning rate\n",
    "model = Sequential([\n",
    "    Dense(64, activation='relu', input_shape=(X_train_preprocessed.shape[1],)),\n",
    "    Dense(32, activation='relu'),\n",
    "    Dense(1, activation='relu')\n",
    "])\n",
    "sgd = SGD(learning_rate=0.01, momentum=0.9)  # Correctly specifying the learning rate parameter\n",
    "model.compile(loss='mean_squared_error', optimizer=sgd, metrics=['mean_squared_error'])\n",
    "\n",
    "# Implement early stopping to prevent overfitting\n",
    "early_stopping = EarlyStopping(patience=3, restore_best_weights=True)\n",
    "\n",
    "# Train the model with larger batch size and early stopping\n",
    "history = model.fit(X_train_preprocessed, y_train, epochs=10, validation_split=0.2, batch_size=4096, callbacks=[early_stopping])"
   ]
  },
  {
   "cell_type": "markdown",
   "id": "44454dc2",
   "metadata": {
    "papermill": {
     "duration": 0.099246,
     "end_time": "2024-06-12T21:12:59.775122",
     "exception": false,
     "start_time": "2024-06-12T21:12:59.675876",
     "status": "completed"
    },
    "tags": []
   },
   "source": [
    "# **Evaluating The Model**"
   ]
  },
  {
   "cell_type": "code",
   "execution_count": 12,
   "id": "16731412",
   "metadata": {
    "execution": {
     "iopub.execute_input": "2024-06-12T21:12:59.981790Z",
     "iopub.status.busy": "2024-06-12T21:12:59.981294Z",
     "iopub.status.idle": "2024-06-12T21:13:07.312486Z",
     "shell.execute_reply": "2024-06-12T21:13:07.311178Z"
    },
    "papermill": {
     "duration": 7.436823,
     "end_time": "2024-06-12T21:13:07.315028",
     "exception": false,
     "start_time": "2024-06-12T21:12:59.878205",
     "status": "completed"
    },
    "tags": []
   },
   "outputs": [
    {
     "name": "stdout",
     "output_type": "stream",
     "text": [
      "\u001b[1m4709/4709\u001b[0m \u001b[32m━━━━━━━━━━━━━━━━━━━━\u001b[0m\u001b[37m\u001b[0m \u001b[1m7s\u001b[0m 2ms/step - loss: 12.3533 - mean_squared_error: 12.3533\n",
      "Mean Squared Error: 12.370326042175293\n"
     ]
    }
   ],
   "source": [
    "# Evaluate the model\n",
    "mse, _ = model.evaluate(X_test_preprocessed, y_test)\n",
    "print(\"Mean Squared Error:\", mse)"
   ]
  },
  {
   "cell_type": "code",
   "execution_count": 13,
   "id": "b7501de2",
   "metadata": {
    "execution": {
     "iopub.execute_input": "2024-06-12T21:13:07.616840Z",
     "iopub.status.busy": "2024-06-12T21:13:07.616407Z",
     "iopub.status.idle": "2024-06-12T21:13:07.968416Z",
     "shell.execute_reply": "2024-06-12T21:13:07.967094Z"
    },
    "papermill": {
     "duration": 0.469212,
     "end_time": "2024-06-12T21:13:07.971198",
     "exception": false,
     "start_time": "2024-06-12T21:13:07.501986",
     "status": "completed"
    },
    "tags": []
   },
   "outputs": [
    {
     "data": {
      "image/png": "[encoded data removed]",
      "text/plain": [
       "<Figure size 640x480 with 1 Axes>"
      ]
     },
     "metadata": {},
     "output_type": "display_data"
    }
   ],
   "source": [
    "# Plot training & validation loss values\n",
    "plt.plot(history.history['loss'])\n",
    "plt.plot(history.history['val_loss'])\n",
    "plt.title('Model loss')\n",
    "plt.ylabel('Loss')\n",
    "plt.xlabel('Epoch')\n",
    "plt.legend(['Train', 'Validation'], loc='upper left')\n",
    "plt.show()"
   ]
  },
  {
   "cell_type": "markdown",
   "id": "2220e02d",
   "metadata": {
    "papermill": {
     "duration": 0.116752,
     "end_time": "2024-06-12T21:13:08.202939",
     "exception": false,
     "start_time": "2024-06-12T21:13:08.086187",
     "status": "completed"
    },
    "tags": []
   },
   "source": [
    "The model demonstates training and validationdownwards trend, a decreasing loss over epochs. Thus indicating that the model is learning from the data and improving it's predictive ability"
   ]
  },
  {
   "cell_type": "markdown",
   "id": "eafe9d5b",
   "metadata": {
    "papermill": {
     "duration": 0.115525,
     "end_time": "2024-06-12T21:13:08.434432",
     "exception": false,
     "start_time": "2024-06-12T21:13:08.318907",
     "status": "completed"
    },
    "tags": []
   },
   "source": [
    "# **Book Recommendation**"
   ]
  },
  {
   "cell_type": "markdown",
   "id": "f2a08e74",
   "metadata": {
    "papermill": {
     "duration": 0.114651,
     "end_time": "2024-06-12T21:13:08.667692",
     "exception": false,
     "start_time": "2024-06-12T21:13:08.553041",
     "status": "completed"
    },
    "tags": []
   },
   "source": [
    "Using the model, for any given user we can predict and give recommendations on what to read next."
   ]
  },
  {
   "cell_type": "code",
   "execution_count": 14,
   "id": "e200ab9d",
   "metadata": {
    "execution": {
     "iopub.execute_input": "2024-06-12T21:13:08.906362Z",
     "iopub.status.busy": "2024-06-12T21:13:08.905891Z",
     "iopub.status.idle": "2024-06-12T21:13:22.236711Z",
     "shell.execute_reply": "2024-06-12T21:13:22.235139Z"
    },
    "papermill": {
     "duration": 13.455463,
     "end_time": "2024-06-12T21:13:22.239502",
     "exception": false,
     "start_time": "2024-06-12T21:13:08.784039",
     "status": "completed"
    },
    "tags": []
   },
   "outputs": [
    {
     "name": "stdout",
     "output_type": "stream",
     "text": [
      "\u001b[1m4709/4709\u001b[0m \u001b[32m━━━━━━━━━━━━━━━━━━━━\u001b[0m\u001b[37m\u001b[0m \u001b[1m11s\u001b[0m 2ms/step\n",
      "Top 5 recommended books for user 114444:\n",
      "\n",
      "Book 381298:\n",
      "Title: Harry Potter and the Sorcerer's Stone (Book 1)\n",
      "Author: J. K. Rowling\n",
      "Publisher: Scholastic\n",
      "\n",
      "Book 578248:\n",
      "Title: Ranma 1/2 (Ranma 1/2)\n",
      "Author: Rumiko Takahashi\n",
      "Publisher: VIZ LLC\n",
      "\n",
      "Book 381237:\n",
      "Title: Harry Potter and the Chamber of Secrets (Book 2)\n",
      "Author: J. K. Rowling\n",
      "Publisher: Scholastic\n",
      "\n",
      "Book 799449:\n",
      "Title: 2002 Novel &amp; Short Story Writers Market (Novel and Short Story Writer's Market)\n",
      "Author: Anne Bowling\n",
      "Publisher: Writer's Digest Books\n",
      "\n",
      "Book 914775:\n",
      "Title: The Cobra Event\n",
      "Author: Richard Preston\n",
      "Publisher: Ballantine Books\n",
      "\n"
     ]
    }
   ],
   "source": [
    "predicted_ratings = model.predict(X_test_preprocessed)\n",
    "user_id = X_test.iloc[0]['User-ID']\n",
    "recommended_books = X_test.iloc[np.argsort(predicted_ratings[:,0])[::-1][:5]]\n",
    "\n",
    "def print_recommendations(recommended_books, user_id):\n",
    "    print(f\"Top 5 recommended books for user {user_id}:\\n\")\n",
    "    for i, row in recommended_books.iterrows():\n",
    "        print(f\"Book {i+1}:\")\n",
    "        print(f\"Title: {row['Book-Title']}\")\n",
    "        print(f\"Author: {row['Book-Author']}\")\n",
    "        print(f\"Publisher: {row['Publisher']}\")\n",
    "        print()\n",
    "\n",
    "# Print the recommended books for the user\n",
    "print_recommendations(recommended_books, user_id)"
   ]
  },
  {
   "cell_type": "markdown",
   "id": "b39bda5a",
   "metadata": {
    "papermill": {
     "duration": 0.139146,
     "end_time": "2024-06-12T21:13:22.518156",
     "exception": false,
     "start_time": "2024-06-12T21:13:22.379010",
     "status": "completed"
    },
    "tags": []
   },
   "source": [
    "# **Saving the Model**"
   ]
  },
  {
   "cell_type": "code",
   "execution_count": 15,
   "id": "13a8028b",
   "metadata": {
    "execution": {
     "iopub.execute_input": "2024-06-12T21:13:22.793002Z",
     "iopub.status.busy": "2024-06-12T21:13:22.792538Z",
     "iopub.status.idle": "2024-06-12T21:13:23.152693Z",
     "shell.execute_reply": "2024-06-12T21:13:23.151371Z"
    },
    "papermill": {
     "duration": 0.503984,
     "end_time": "2024-06-12T21:13:23.155669",
     "exception": false,
     "start_time": "2024-06-12T21:13:22.651685",
     "status": "completed"
    },
    "tags": []
   },
   "outputs": [],
   "source": [
    "# Save the model\n",
    "model.save('tf_model.h5')"
   ]
  }
 ],
 "metadata": {
  "kaggle": {
   "accelerator": "none",
   "dataSources": [
    {
     "datasetId": 5199309,
     "sourceId": 8674523,
     "sourceType": "datasetVersion"
    },
    {
     "datasetId": 5199318,
     "sourceId": 8674533,
     "sourceType": "datasetVersion"
    },
    {
     "datasetId": 5199322,
     "sourceId": 8674537,
     "sourceType": "datasetVersion"
    }
   ],
   "dockerImageVersionId": 30732,
   "isGpuEnabled": false,
   "isInternetEnabled": false,
   "language": "python",
   "sourceType": "notebook"
  },
  "kernelspec": {
   "display_name": "Python 3",
   "language": "python",
   "name": "python3"
  },
  "language_info": {
   "codemirror_mode": {
    "name": "ipython",
    "version": 3
   },
   "file_extension": ".py",
   "mimetype": "text/x-python",
   "name": "python",
   "nbconvert_exporter": "python",
   "pygments_lexer": "ipython3",
   "version": "3.10.13"
  },
  "papermill": {
   "default_parameters": {},
   "duration": 193.802943,
   "end_time": "2024-06-12T21:13:26.178888",
   "environment_variables": {},
   "exception": null,
   "input_path": "__notebook__.ipynb",
   "output_path": "__notebook__.ipynb",
   "parameters": {},
   "start_time": "2024-06-12T21:10:12.375945",
   "version": "2.5.0"
  }
 },
 "nbformat": 4,
 "nbformat_minor": 5
}
