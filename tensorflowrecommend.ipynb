{
 "cells": [
  {
   "cell_type": "markdown",
   "id": "0fa524a5",
   "metadata": {
    "papermill": {
     "duration": 0.007801,
     "end_time": "2024-06-12T22:14:00.068352",
     "exception": false,
     "start_time": "2024-06-12T22:14:00.060551",
     "status": "completed"
    },
    "tags": []
   },
   "source": [
    "# **Importing Data & Dependencies**"
   ]
  },
  {
   "cell_type": "code",
   "execution_count": 1,
   "id": "82aab43c",
   "metadata": {
    "execution": {
     "iopub.execute_input": "2024-06-12T22:14:00.085002Z",
     "iopub.status.busy": "2024-06-12T22:14:00.084631Z",
     "iopub.status.idle": "2024-06-12T22:14:14.173550Z",
     "shell.execute_reply": "2024-06-12T22:14:14.172688Z"
    },
    "papermill": {
     "duration": 14.100113,
     "end_time": "2024-06-12T22:14:14.176297",
     "exception": false,
     "start_time": "2024-06-12T22:14:00.076184",
     "status": "completed"
    },
    "tags": []
   },
   "outputs": [
    {
     "name": "stderr",
     "output_type": "stream",
     "text": [
      "2024-06-12 22:14:02.773149: E external/local_xla/xla/stream_executor/cuda/cuda_dnn.cc:9261] Unable to register cuDNN factory: Attempting to register factory for plugin cuDNN when one has already been registered\n",
      "2024-06-12 22:14:02.773286: E external/local_xla/xla/stream_executor/cuda/cuda_fft.cc:607] Unable to register cuFFT factory: Attempting to register factory for plugin cuFFT when one has already been registered\n",
      "2024-06-12 22:14:02.910717: E external/local_xla/xla/stream_executor/cuda/cuda_blas.cc:1515] Unable to register cuBLAS factory: Attempting to register factory for plugin cuBLAS when one has already been registered\n"
     ]
    }
   ],
   "source": [
    "import pandas as pd\n",
    "import numpy as np\n",
    "import matplotlib.pyplot as plt\n",
    "import tensorflow as tf\n",
    "\n",
    "from sklearn.model_selection import train_test_split\n",
    "from sklearn.preprocessing import StandardScaler, OneHotEncoder\n",
    "from sklearn.compose import ColumnTransformer\n",
    "\n",
    "from keras.models import Sequential\n",
    "from keras.layers import Dense, Dropout\n",
    "\n",
    "from tensorflow.keras.optimizers import SGD\n",
    "from tensorflow.keras.callbacks import EarlyStopping\n",
    "from tensorflow.keras.models import load_model\n",
    "\n",
    "import warnings\n",
    "warnings.filterwarnings('ignore')"
   ]
  },
  {
   "cell_type": "code",
   "execution_count": 2,
   "id": "2dd76434",
   "metadata": {
    "execution": {
     "iopub.execute_input": "2024-06-12T22:14:14.193480Z",
     "iopub.status.busy": "2024-06-12T22:14:14.192691Z",
     "iopub.status.idle": "2024-06-12T22:14:17.904422Z",
     "shell.execute_reply": "2024-06-12T22:14:17.903435Z"
    },
    "papermill": {
     "duration": 3.722744,
     "end_time": "2024-06-12T22:14:17.906764",
     "exception": false,
     "start_time": "2024-06-12T22:14:14.184020",
     "status": "completed"
    },
    "tags": []
   },
   "outputs": [],
   "source": [
    "users_df = pd.read_csv(\"/kaggle/input/users-csv/Users.csv\")\n",
    "ratings_df = pd.read_csv(\"/kaggle/input/ratings-csv/Ratings.csv\")\n",
    "books_df = pd.read_csv(\"/kaggle/input/books-csv/Books.csv\")"
   ]
  },
  {
   "cell_type": "code",
   "execution_count": 3,
   "id": "83b2809a",
   "metadata": {
    "execution": {
     "iopub.execute_input": "2024-06-12T22:14:17.923122Z",
     "iopub.status.busy": "2024-06-12T22:14:17.922715Z",
     "iopub.status.idle": "2024-06-12T22:14:17.944145Z",
     "shell.execute_reply": "2024-06-12T22:14:17.942924Z"
    },
    "papermill": {
     "duration": 0.032076,
     "end_time": "2024-06-12T22:14:17.946386",
     "exception": false,
     "start_time": "2024-06-12T22:14:17.914310",
     "status": "completed"
    },
    "tags": []
   },
   "outputs": [
    {
     "data": {
      "text/html": [
       "<div>\n",
       "<style scoped>\n",
       "    .dataframe tbody tr th:only-of-type {\n",
       "        vertical-align: middle;\n",
       "    }\n",
       "\n",
       "    .dataframe tbody tr th {\n",
       "        vertical-align: top;\n",
       "    }\n",
       "\n",
       "    .dataframe thead th {\n",
       "        text-align: right;\n",
       "    }\n",
       "</style>\n",
       "<table border=\"1\" class=\"dataframe\">\n",
       "  <thead>\n",
       "    <tr style=\"text-align: right;\">\n",
       "      <th></th>\n",
       "      <th>User-ID</th>\n",
       "      <th>Location</th>\n",
       "      <th>Age</th>\n",
       "    </tr>\n",
       "  </thead>\n",
       "  <tbody>\n",
       "    <tr>\n",
       "      <th>0</th>\n",
       "      <td>1</td>\n",
       "      <td>nyc, new york, usa</td>\n",
       "      <td>NaN</td>\n",
       "    </tr>\n",
       "    <tr>\n",
       "      <th>1</th>\n",
       "      <td>2</td>\n",
       "      <td>stockton, california, usa</td>\n",
       "      <td>18.0</td>\n",
       "    </tr>\n",
       "    <tr>\n",
       "      <th>2</th>\n",
       "      <td>3</td>\n",
       "      <td>moscow, yukon territory, russia</td>\n",
       "      <td>NaN</td>\n",
       "    </tr>\n",
       "    <tr>\n",
       "      <th>3</th>\n",
       "      <td>4</td>\n",
       "      <td>porto, v.n.gaia, portugal</td>\n",
       "      <td>17.0</td>\n",
       "    </tr>\n",
       "    <tr>\n",
       "      <th>4</th>\n",
       "      <td>5</td>\n",
       "      <td>farnborough, hants, united kingdom</td>\n",
       "      <td>NaN</td>\n",
       "    </tr>\n",
       "  </tbody>\n",
       "</table>\n",
       "</div>"
      ],
      "text/plain": [
       "   User-ID                            Location   Age\n",
       "0        1                  nyc, new york, usa   NaN\n",
       "1        2           stockton, california, usa  18.0\n",
       "2        3     moscow, yukon territory, russia   NaN\n",
       "3        4           porto, v.n.gaia, portugal  17.0\n",
       "4        5  farnborough, hants, united kingdom   NaN"
      ]
     },
     "execution_count": 3,
     "metadata": {},
     "output_type": "execute_result"
    }
   ],
   "source": [
    "users_df.head()"
   ]
  },
  {
   "cell_type": "code",
   "execution_count": 4,
   "id": "aadd776e",
   "metadata": {
    "execution": {
     "iopub.execute_input": "2024-06-12T22:14:17.964589Z",
     "iopub.status.busy": "2024-06-12T22:14:17.964234Z",
     "iopub.status.idle": "2024-06-12T22:14:17.974483Z",
     "shell.execute_reply": "2024-06-12T22:14:17.973459Z"
    },
    "papermill": {
     "duration": 0.022549,
     "end_time": "2024-06-12T22:14:17.977204",
     "exception": false,
     "start_time": "2024-06-12T22:14:17.954655",
     "status": "completed"
    },
    "tags": []
   },
   "outputs": [
    {
     "data": {
      "text/html": [
       "<div>\n",
       "<style scoped>\n",
       "    .dataframe tbody tr th:only-of-type {\n",
       "        vertical-align: middle;\n",
       "    }\n",
       "\n",
       "    .dataframe tbody tr th {\n",
       "        vertical-align: top;\n",
       "    }\n",
       "\n",
       "    .dataframe thead th {\n",
       "        text-align: right;\n",
       "    }\n",
       "</style>\n",
       "<table border=\"1\" class=\"dataframe\">\n",
       "  <thead>\n",
       "    <tr style=\"text-align: right;\">\n",
       "      <th></th>\n",
       "      <th>User-ID</th>\n",
       "      <th>ISBN</th>\n",
       "      <th>Book-Rating</th>\n",
       "    </tr>\n",
       "  </thead>\n",
       "  <tbody>\n",
       "    <tr>\n",
       "      <th>0</th>\n",
       "      <td>276725</td>\n",
       "      <td>034545104X</td>\n",
       "      <td>0</td>\n",
       "    </tr>\n",
       "    <tr>\n",
       "      <th>1</th>\n",
       "      <td>276726</td>\n",
       "      <td>0155061224</td>\n",
       "      <td>5</td>\n",
       "    </tr>\n",
       "    <tr>\n",
       "      <th>2</th>\n",
       "      <td>276727</td>\n",
       "      <td>0446520802</td>\n",
       "      <td>0</td>\n",
       "    </tr>\n",
       "    <tr>\n",
       "      <th>3</th>\n",
       "      <td>276729</td>\n",
       "      <td>052165615X</td>\n",
       "      <td>3</td>\n",
       "    </tr>\n",
       "    <tr>\n",
       "      <th>4</th>\n",
       "      <td>276729</td>\n",
       "      <td>0521795028</td>\n",
       "      <td>6</td>\n",
       "    </tr>\n",
       "  </tbody>\n",
       "</table>\n",
       "</div>"
      ],
      "text/plain": [
       "   User-ID        ISBN  Book-Rating\n",
       "0   276725  034545104X            0\n",
       "1   276726  0155061224            5\n",
       "2   276727  0446520802            0\n",
       "3   276729  052165615X            3\n",
       "4   276729  0521795028            6"
      ]
     },
     "execution_count": 4,
     "metadata": {},
     "output_type": "execute_result"
    }
   ],
   "source": [
    "ratings_df.head()"
   ]
  },
  {
   "cell_type": "code",
   "execution_count": 5,
   "id": "3ad35ca9",
   "metadata": {
    "execution": {
     "iopub.execute_input": "2024-06-12T22:14:17.995364Z",
     "iopub.status.busy": "2024-06-12T22:14:17.995043Z",
     "iopub.status.idle": "2024-06-12T22:14:18.009197Z",
     "shell.execute_reply": "2024-06-12T22:14:18.008288Z"
    },
    "papermill": {
     "duration": 0.025265,
     "end_time": "2024-06-12T22:14:18.011272",
     "exception": false,
     "start_time": "2024-06-12T22:14:17.986007",
     "status": "completed"
    },
    "tags": []
   },
   "outputs": [
    {
     "data": {
      "text/html": [
       "<div>\n",
       "<style scoped>\n",
       "    .dataframe tbody tr th:only-of-type {\n",
       "        vertical-align: middle;\n",
       "    }\n",
       "\n",
       "    .dataframe tbody tr th {\n",
       "        vertical-align: top;\n",
       "    }\n",
       "\n",
       "    .dataframe thead th {\n",
       "        text-align: right;\n",
       "    }\n",
       "</style>\n",
       "<table border=\"1\" class=\"dataframe\">\n",
       "  <thead>\n",
       "    <tr style=\"text-align: right;\">\n",
       "      <th></th>\n",
       "      <th>ISBN</th>\n",
       "      <th>Book-Title</th>\n",
       "      <th>Book-Author</th>\n",
       "      <th>Year-Of-Publication</th>\n",
       "      <th>Publisher</th>\n",
       "      <th>Image-URL-S</th>\n",
       "      <th>Image-URL-M</th>\n",
       "      <th>Image-URL-L</th>\n",
       "    </tr>\n",
       "  </thead>\n",
       "  <tbody>\n",
       "    <tr>\n",
       "      <th>0</th>\n",
       "      <td>0195153448</td>\n",
       "      <td>Classical Mythology</td>\n",
       "      <td>Mark P. O. Morford</td>\n",
       "      <td>2002</td>\n",
       "      <td>Oxford University Press</td>\n",
       "      <td>http://images.amazon.com/images/P/0195153448.0...</td>\n",
       "      <td>http://images.amazon.com/images/P/0195153448.0...</td>\n",
       "      <td>http://images.amazon.com/images/P/0195153448.0...</td>\n",
       "    </tr>\n",
       "    <tr>\n",
       "      <th>1</th>\n",
       "      <td>0002005018</td>\n",
       "      <td>Clara Callan</td>\n",
       "      <td>Richard Bruce Wright</td>\n",
       "      <td>2001</td>\n",
       "      <td>HarperFlamingo Canada</td>\n",
       "      <td>http://images.amazon.com/images/P/0002005018.0...</td>\n",
       "      <td>http://images.amazon.com/images/P/0002005018.0...</td>\n",
       "      <td>http://images.amazon.com/images/P/0002005018.0...</td>\n",
       "    </tr>\n",
       "    <tr>\n",
       "      <th>2</th>\n",
       "      <td>0060973129</td>\n",
       "      <td>Decision in Normandy</td>\n",
       "      <td>Carlo D'Este</td>\n",
       "      <td>1991</td>\n",
       "      <td>HarperPerennial</td>\n",
       "      <td>http://images.amazon.com/images/P/0060973129.0...</td>\n",
       "      <td>http://images.amazon.com/images/P/0060973129.0...</td>\n",
       "      <td>http://images.amazon.com/images/P/0060973129.0...</td>\n",
       "    </tr>\n",
       "    <tr>\n",
       "      <th>3</th>\n",
       "      <td>0374157065</td>\n",
       "      <td>Flu: The Story of the Great Influenza Pandemic...</td>\n",
       "      <td>Gina Bari Kolata</td>\n",
       "      <td>1999</td>\n",
       "      <td>Farrar Straus Giroux</td>\n",
       "      <td>http://images.amazon.com/images/P/0374157065.0...</td>\n",
       "      <td>http://images.amazon.com/images/P/0374157065.0...</td>\n",
       "      <td>http://images.amazon.com/images/P/0374157065.0...</td>\n",
       "    </tr>\n",
       "    <tr>\n",
       "      <th>4</th>\n",
       "      <td>0393045218</td>\n",
       "      <td>The Mummies of Urumchi</td>\n",
       "      <td>E. J. W. Barber</td>\n",
       "      <td>1999</td>\n",
       "      <td>W. W. Norton &amp;amp; Company</td>\n",
       "      <td>http://images.amazon.com/images/P/0393045218.0...</td>\n",
       "      <td>http://images.amazon.com/images/P/0393045218.0...</td>\n",
       "      <td>http://images.amazon.com/images/P/0393045218.0...</td>\n",
       "    </tr>\n",
       "  </tbody>\n",
       "</table>\n",
       "</div>"
      ],
      "text/plain": [
       "         ISBN                                         Book-Title  \\\n",
       "0  0195153448                                Classical Mythology   \n",
       "1  0002005018                                       Clara Callan   \n",
       "2  0060973129                               Decision in Normandy   \n",
       "3  0374157065  Flu: The Story of the Great Influenza Pandemic...   \n",
       "4  0393045218                             The Mummies of Urumchi   \n",
       "\n",
       "            Book-Author Year-Of-Publication                   Publisher  \\\n",
       "0    Mark P. O. Morford                2002     Oxford University Press   \n",
       "1  Richard Bruce Wright                2001       HarperFlamingo Canada   \n",
       "2          Carlo D'Este                1991             HarperPerennial   \n",
       "3      Gina Bari Kolata                1999        Farrar Straus Giroux   \n",
       "4       E. J. W. Barber                1999  W. W. Norton &amp; Company   \n",
       "\n",
       "                                         Image-URL-S  \\\n",
       "0  http://images.amazon.com/images/P/0195153448.0...   \n",
       "1  http://images.amazon.com/images/P/0002005018.0...   \n",
       "2  http://images.amazon.com/images/P/0060973129.0...   \n",
       "3  http://images.amazon.com/images/P/0374157065.0...   \n",
       "4  http://images.amazon.com/images/P/0393045218.0...   \n",
       "\n",
       "                                         Image-URL-M  \\\n",
       "0  http://images.amazon.com/images/P/0195153448.0...   \n",
       "1  http://images.amazon.com/images/P/0002005018.0...   \n",
       "2  http://images.amazon.com/images/P/0060973129.0...   \n",
       "3  http://images.amazon.com/images/P/0374157065.0...   \n",
       "4  http://images.amazon.com/images/P/0393045218.0...   \n",
       "\n",
       "                                         Image-URL-L  \n",
       "0  http://images.amazon.com/images/P/0195153448.0...  \n",
       "1  http://images.amazon.com/images/P/0002005018.0...  \n",
       "2  http://images.amazon.com/images/P/0060973129.0...  \n",
       "3  http://images.amazon.com/images/P/0374157065.0...  \n",
       "4  http://images.amazon.com/images/P/0393045218.0...  "
      ]
     },
     "execution_count": 5,
     "metadata": {},
     "output_type": "execute_result"
    }
   ],
   "source": [
    "books_df.head()"
   ]
  },
  {
   "cell_type": "markdown",
   "id": "370fc471",
   "metadata": {
    "papermill": {
     "duration": 0.007378,
     "end_time": "2024-06-12T22:14:18.026893",
     "exception": false,
     "start_time": "2024-06-12T22:14:18.019515",
     "status": "completed"
    },
    "tags": []
   },
   "source": [
    "# **Preprocessing Data**"
   ]
  },
  {
   "cell_type": "code",
   "execution_count": 6,
   "id": "fb871bdc",
   "metadata": {
    "execution": {
     "iopub.execute_input": "2024-06-12T22:14:18.044120Z",
     "iopub.status.busy": "2024-06-12T22:14:18.043700Z",
     "iopub.status.idle": "2024-06-12T22:14:20.300128Z",
     "shell.execute_reply": "2024-06-12T22:14:20.299163Z"
    },
    "papermill": {
     "duration": 2.268306,
     "end_time": "2024-06-12T22:14:20.302873",
     "exception": false,
     "start_time": "2024-06-12T22:14:18.034567",
     "status": "completed"
    },
    "tags": []
   },
   "outputs": [],
   "source": [
    "# Dropping Image Columns\n",
    "books_df.drop(books_df.columns[5:], axis=1, inplace=True)\n",
    "\n",
    "# Merge datasets\n",
    "merged_df = pd.merge(ratings_df, books_df, on='ISBN')\n",
    "final_df = pd.merge(merged_df, users_df, on='User-ID')\n",
    "\n",
    "# Drop NA values\n",
    "final_df.dropna(inplace=True)"
   ]
  },
  {
   "cell_type": "code",
   "execution_count": 7,
   "id": "8e9ffa8d",
   "metadata": {
    "execution": {
     "iopub.execute_input": "2024-06-12T22:14:20.320815Z",
     "iopub.status.busy": "2024-06-12T22:14:20.320479Z",
     "iopub.status.idle": "2024-06-12T22:14:20.762329Z",
     "shell.execute_reply": "2024-06-12T22:14:20.761191Z"
    },
    "papermill": {
     "duration": 0.453746,
     "end_time": "2024-06-12T22:14:20.764890",
     "exception": false,
     "start_time": "2024-06-12T22:14:20.311144",
     "status": "completed"
    },
    "tags": []
   },
   "outputs": [],
   "source": [
    "# Replace non-numeric values with '0'\n",
    "final_df['Year-Of-Publication'] = final_df['Year-Of-Publication'].replace(['Gallimard', 'DK Publishing Inc'], '0')\n",
    "\n",
    "# Convert specific columns to integers\n",
    "final_df['User-ID'] = final_df['User-ID'].astype(int)\n",
    "final_df['Book-Rating'] = final_df['Book-Rating'].astype(int)\n",
    "final_df['Age'] = final_df['Age'].astype(int)\n",
    "final_df['Year-Of-Publication'] = final_df['Year-Of-Publication'].astype(int)\n",
    "\n",
    "# Convert specific columns to strings\n",
    "final_df['ISBN'] = final_df['ISBN'].astype(str)\n",
    "final_df['Book-Title'] = final_df['Book-Title'].astype(str)\n",
    "final_df['Book-Author'] = final_df['Book-Author'].astype(str)\n",
    "final_df['Publisher'] = final_df['Publisher'].astype(str)\n",
    "final_df['Location'] = final_df['Location'].astype(str)"
   ]
  },
  {
   "cell_type": "code",
   "execution_count": 8,
   "id": "0ae465a6",
   "metadata": {
    "execution": {
     "iopub.execute_input": "2024-06-12T22:14:20.781911Z",
     "iopub.status.busy": "2024-06-12T22:14:20.781612Z",
     "iopub.status.idle": "2024-06-12T22:14:20.787748Z",
     "shell.execute_reply": "2024-06-12T22:14:20.786680Z"
    },
    "papermill": {
     "duration": 0.0173,
     "end_time": "2024-06-12T22:14:20.790001",
     "exception": false,
     "start_time": "2024-06-12T22:14:20.772701",
     "status": "completed"
    },
    "tags": []
   },
   "outputs": [],
   "source": [
    "# Define which columns are categorical and numerical\n",
    "categorical_cols = ['ISBN', 'Book-Title', 'Book-Author', 'Publisher', 'Location']\n",
    "numerical_cols = ['User-ID', 'Age', 'Year-Of-Publication']\n",
    "\n",
    "preprocessor = ColumnTransformer(\n",
    "    transformers=[\n",
    "        ('cat', OneHotEncoder(handle_unknown='ignore'), categorical_cols),\n",
    "        ('num', StandardScaler(), numerical_cols)\n",
    "    ],\n",
    "    remainder='passthrough'\n",
    ")"
   ]
  },
  {
   "cell_type": "code",
   "execution_count": 9,
   "id": "be3d2b7d",
   "metadata": {
    "execution": {
     "iopub.execute_input": "2024-06-12T22:14:20.807562Z",
     "iopub.status.busy": "2024-06-12T22:14:20.807230Z",
     "iopub.status.idle": "2024-06-12T22:14:21.241267Z",
     "shell.execute_reply": "2024-06-12T22:14:21.240191Z"
    },
    "papermill": {
     "duration": 0.446059,
     "end_time": "2024-06-12T22:14:21.244136",
     "exception": false,
     "start_time": "2024-06-12T22:14:20.798077",
     "status": "completed"
    },
    "tags": []
   },
   "outputs": [],
   "source": [
    "# Split data into train and test sets\n",
    "X = final_df.drop(['Book-Rating'], axis=1)\n",
    "y = final_df['Book-Rating']\n",
    "X_train, X_test, y_train, y_test = train_test_split(X, y, test_size=0.2, random_state=42)"
   ]
  },
  {
   "cell_type": "code",
   "execution_count": 10,
   "id": "ea0d1585",
   "metadata": {
    "execution": {
     "iopub.execute_input": "2024-06-12T22:14:21.262290Z",
     "iopub.status.busy": "2024-06-12T22:14:21.261534Z",
     "iopub.status.idle": "2024-06-12T22:14:27.903483Z",
     "shell.execute_reply": "2024-06-12T22:14:27.902550Z"
    },
    "papermill": {
     "duration": 6.653839,
     "end_time": "2024-06-12T22:14:27.906187",
     "exception": false,
     "start_time": "2024-06-12T22:14:21.252348",
     "status": "completed"
    },
    "tags": []
   },
   "outputs": [],
   "source": [
    "# Fit and transform preprocessing on training data, and transform on test data\n",
    "X_train_preprocessed = preprocessor.fit_transform(X_train)\n",
    "X_test_preprocessed = preprocessor.transform(X_test)"
   ]
  },
  {
   "cell_type": "markdown",
   "id": "94746ff9",
   "metadata": {
    "papermill": {
     "duration": 0.007886,
     "end_time": "2024-06-12T22:14:27.922850",
     "exception": false,
     "start_time": "2024-06-12T22:14:27.914964",
     "status": "completed"
    },
    "tags": []
   },
   "source": [
    "# **The Tensorflow Model**"
   ]
  },
  {
   "cell_type": "markdown",
   "id": "25dc9225",
   "metadata": {
    "papermill": {
     "duration": 0.008137,
     "end_time": "2024-06-12T22:14:27.939175",
     "exception": false,
     "start_time": "2024-06-12T22:14:27.931038",
     "status": "completed"
    },
    "tags": []
   },
   "source": [
    "This model is predicting Book-Rating"
   ]
  },
  {
   "cell_type": "code",
   "execution_count": 11,
   "id": "722588f6",
   "metadata": {
    "execution": {
     "iopub.execute_input": "2024-06-12T22:14:27.957284Z",
     "iopub.status.busy": "2024-06-12T22:14:27.956862Z",
     "iopub.status.idle": "2024-06-12T22:16:29.489450Z",
     "shell.execute_reply": "2024-06-12T22:16:29.488484Z"
    },
    "papermill": {
     "duration": 121.544756,
     "end_time": "2024-06-12T22:16:29.492116",
     "exception": false,
     "start_time": "2024-06-12T22:14:27.947360",
     "status": "completed"
    },
    "tags": []
   },
   "outputs": [
    {
     "name": "stdout",
     "output_type": "stream",
     "text": [
      "Epoch 1/10\n",
      "\u001b[1m118/118\u001b[0m \u001b[32m━━━━━━━━━━━━━━━━━━━━\u001b[0m\u001b[37m\u001b[0m \u001b[1m16s\u001b[0m 130ms/step - loss: 16.1089 - mean_squared_error: 16.1089 - val_loss: 14.8751 - val_mean_squared_error: 14.8751\n",
      "Epoch 2/10\n",
      "\u001b[1m118/118\u001b[0m \u001b[32m━━━━━━━━━━━━━━━━━━━━\u001b[0m\u001b[37m\u001b[0m \u001b[1m15s\u001b[0m 123ms/step - loss: 14.5869 - mean_squared_error: 14.5869 - val_loss: 13.2917 - val_mean_squared_error: 13.2917\n",
      "Epoch 3/10\n",
      "\u001b[1m118/118\u001b[0m \u001b[32m━━━━━━━━━━━━━━━━━━━━\u001b[0m\u001b[37m\u001b[0m \u001b[1m15s\u001b[0m 124ms/step - loss: 12.9131 - mean_squared_error: 12.9131 - val_loss: 12.9377 - val_mean_squared_error: 12.9377\n",
      "Epoch 4/10\n",
      "\u001b[1m118/118\u001b[0m \u001b[32m━━━━━━━━━━━━━━━━━━━━\u001b[0m\u001b[37m\u001b[0m \u001b[1m15s\u001b[0m 127ms/step - loss: 12.2635 - mean_squared_error: 12.2635 - val_loss: 12.6722 - val_mean_squared_error: 12.6722\n",
      "Epoch 5/10\n",
      "\u001b[1m118/118\u001b[0m \u001b[32m━━━━━━━━━━━━━━━━━━━━\u001b[0m\u001b[37m\u001b[0m \u001b[1m15s\u001b[0m 124ms/step - loss: 11.7495 - mean_squared_error: 11.7495 - val_loss: 12.3670 - val_mean_squared_error: 12.3670\n",
      "Epoch 6/10\n",
      "\u001b[1m118/118\u001b[0m \u001b[32m━━━━━━━━━━━━━━━━━━━━\u001b[0m\u001b[37m\u001b[0m \u001b[1m15s\u001b[0m 128ms/step - loss: 11.4069 - mean_squared_error: 11.4069 - val_loss: 12.7934 - val_mean_squared_error: 12.7934\n",
      "Epoch 7/10\n",
      "\u001b[1m118/118\u001b[0m \u001b[32m━━━━━━━━━━━━━━━━━━━━\u001b[0m\u001b[37m\u001b[0m \u001b[1m15s\u001b[0m 125ms/step - loss: 11.1804 - mean_squared_error: 11.1804 - val_loss: 13.1324 - val_mean_squared_error: 13.1324\n",
      "Epoch 8/10\n",
      "\u001b[1m118/118\u001b[0m \u001b[32m━━━━━━━━━━━━━━━━━━━━\u001b[0m\u001b[37m\u001b[0m \u001b[1m15s\u001b[0m 127ms/step - loss: 10.9661 - mean_squared_error: 10.9661 - val_loss: 13.9847 - val_mean_squared_error: 13.9847\n"
     ]
    }
   ],
   "source": [
    "# Define and compile the model with SGD optimizer and a lower learning rate\n",
    "model = Sequential([\n",
    "    Dense(64, activation='relu', input_shape=(X_train_preprocessed.shape[1],)),\n",
    "    Dense(32, activation='relu'),\n",
    "    Dense(1, activation='relu')\n",
    "])\n",
    "sgd = SGD(learning_rate=0.01, momentum=0.9)  # Correctly specifying the learning rate parameter\n",
    "model.compile(loss='mean_squared_error', optimizer=sgd, metrics=['mean_squared_error'])\n",
    "\n",
    "# Implement early stopping to prevent overfitting\n",
    "early_stopping = EarlyStopping(patience=3, restore_best_weights=True)\n",
    "\n",
    "# Train the model with larger batch size and early stopping\n",
    "history = model.fit(X_train_preprocessed, y_train, epochs=10, validation_split=0.2, batch_size=4096, callbacks=[early_stopping])"
   ]
  },
  {
   "cell_type": "markdown",
   "id": "faf48b3c",
   "metadata": {
    "papermill": {
     "duration": 0.092091,
     "end_time": "2024-06-12T22:16:29.677196",
     "exception": false,
     "start_time": "2024-06-12T22:16:29.585105",
     "status": "completed"
    },
    "tags": []
   },
   "source": [
    "# **Evaluating The Model**"
   ]
  },
  {
   "cell_type": "code",
   "execution_count": 12,
   "id": "71445574",
   "metadata": {
    "execution": {
     "iopub.execute_input": "2024-06-12T22:16:29.866700Z",
     "iopub.status.busy": "2024-06-12T22:16:29.866286Z",
     "iopub.status.idle": "2024-06-12T22:16:35.859982Z",
     "shell.execute_reply": "2024-06-12T22:16:35.858854Z"
    },
    "papermill": {
     "duration": 6.092419,
     "end_time": "2024-06-12T22:16:35.862101",
     "exception": false,
     "start_time": "2024-06-12T22:16:29.769682",
     "status": "completed"
    },
    "tags": []
   },
   "outputs": [
    {
     "name": "stdout",
     "output_type": "stream",
     "text": [
      "\u001b[1m4709/4709\u001b[0m \u001b[32m━━━━━━━━━━━━━━━━━━━━\u001b[0m\u001b[37m\u001b[0m \u001b[1m6s\u001b[0m 1ms/step - loss: 12.2595 - mean_squared_error: 12.2595\n",
      "Mean Squared Error: 12.283787727355957\n"
     ]
    }
   ],
   "source": [
    "# Evaluate the model\n",
    "mse, _ = model.evaluate(X_test_preprocessed, y_test)\n",
    "print(\"Mean Squared Error:\", mse)"
   ]
  },
  {
   "cell_type": "code",
   "execution_count": 13,
   "id": "4dd90d71",
   "metadata": {
    "execution": {
     "iopub.execute_input": "2024-06-12T22:16:36.120303Z",
     "iopub.status.busy": "2024-06-12T22:16:36.119358Z",
     "iopub.status.idle": "2024-06-12T22:16:36.463039Z",
     "shell.execute_reply": "2024-06-12T22:16:36.461966Z"
    },
    "papermill": {
     "duration": 0.450626,
     "end_time": "2024-06-12T22:16:36.465397",
     "exception": false,
     "start_time": "2024-06-12T22:16:36.014771",
     "status": "completed"
    },
    "tags": []
   },
   "outputs": [
    {
     "data": {
      "image/png": "[encoded data removed]",
      "text/plain": [
       "<Figure size 640x480 with 1 Axes>"
      ]
     },
     "metadata": {},
     "output_type": "display_data"
    }
   ],
   "source": [
    "# Plot training & validation loss values\n",
    "plt.plot(history.history['loss'])\n",
    "plt.plot(history.history['val_loss'])\n",
    "plt.title('Model loss')\n",
    "plt.ylabel('Loss')\n",
    "plt.xlabel('Epoch')\n",
    "plt.legend(['Train', 'Validation'], loc='upper left')\n",
    "plt.show()"
   ]
  },
  {
   "cell_type": "markdown",
   "id": "442da977",
   "metadata": {
    "papermill": {
     "duration": 0.104713,
     "end_time": "2024-06-12T22:16:36.675913",
     "exception": false,
     "start_time": "2024-06-12T22:16:36.571200",
     "status": "completed"
    },
    "tags": []
   },
   "source": [
    "The model demonstates on training and validation a downwards trend. A decreasing loss over epochs. Thus indicating that the model is learning from the data and improving it's predictive ability"
   ]
  },
  {
   "cell_type": "markdown",
   "id": "0e823a90",
   "metadata": {
    "papermill": {
     "duration": 0.11286,
     "end_time": "2024-06-12T22:16:36.897312",
     "exception": false,
     "start_time": "2024-06-12T22:16:36.784452",
     "status": "completed"
    },
    "tags": []
   },
   "source": [
    "# **Book Recommendation**"
   ]
  },
  {
   "cell_type": "markdown",
   "id": "408f30b8",
   "metadata": {
    "papermill": {
     "duration": 0.100641,
     "end_time": "2024-06-12T22:16:37.102099",
     "exception": false,
     "start_time": "2024-06-12T22:16:37.001458",
     "status": "completed"
    },
    "tags": []
   },
   "source": [
    "Using the model, for any given user we can predict and give recommendations on what to read next."
   ]
  },
  {
   "cell_type": "code",
   "execution_count": 14,
   "id": "848af323",
   "metadata": {
    "execution": {
     "iopub.execute_input": "2024-06-12T22:16:37.304802Z",
     "iopub.status.busy": "2024-06-12T22:16:37.304019Z",
     "iopub.status.idle": "2024-06-12T22:16:38.149202Z",
     "shell.execute_reply": "2024-06-12T22:16:38.148416Z"
    },
    "papermill": {
     "duration": 0.949178,
     "end_time": "2024-06-12T22:16:38.151720",
     "exception": false,
     "start_time": "2024-06-12T22:16:37.202542",
     "status": "completed"
    },
    "tags": []
   },
   "outputs": [],
   "source": [
    "model.save('tf_model.h5')\n",
    "loaded_model = load_model('tf_model.h5')"
   ]
  },
  {
   "cell_type": "code",
   "execution_count": 15,
   "id": "3f8c475e",
   "metadata": {
    "execution": {
     "iopub.execute_input": "2024-06-12T22:16:38.358599Z",
     "iopub.status.busy": "2024-06-12T22:16:38.357702Z",
     "iopub.status.idle": "2024-06-12T22:16:48.839581Z",
     "shell.execute_reply": "2024-06-12T22:16:48.838266Z"
    },
    "papermill": {
     "duration": 10.58861,
     "end_time": "2024-06-12T22:16:48.841868",
     "exception": false,
     "start_time": "2024-06-12T22:16:38.253258",
     "status": "completed"
    },
    "tags": []
   },
   "outputs": [
    {
     "name": "stdout",
     "output_type": "stream",
     "text": [
      "\u001b[1m4709/4709\u001b[0m \u001b[32m━━━━━━━━━━━━━━━━━━━━\u001b[0m\u001b[37m\u001b[0m \u001b[1m8s\u001b[0m 2ms/step\n",
      "Top 5 recommended books for user 114444:\n",
      "\n",
      "Book 381298:\n",
      "Title: Harry Potter and the Sorcerer's Stone (Book 1)\n",
      "Author: J. K. Rowling\n",
      "Publisher: Scholastic\n",
      "\n",
      "Book 381237:\n",
      "Title: Harry Potter and the Chamber of Secrets (Book 2)\n",
      "Author: J. K. Rowling\n",
      "Publisher: Scholastic\n",
      "\n",
      "Book 362616:\n",
      "Title: Going Postal : A Novel of Discworld (Pratchett, Terry)\n",
      "Author: Terry Pratchett\n",
      "Publisher: HarperCollins\n",
      "\n",
      "Book 366166:\n",
      "Title: The Gunslinger (The Dark Tower, Book 1)\n",
      "Author: Stephen King\n",
      "Publisher: Viking Books\n",
      "\n",
      "Book 617961:\n",
      "Title: Harry Potter and the Prisoner of Azkaban (Book 3)\n",
      "Author: J. K. Rowling\n",
      "Publisher: Scholastic\n",
      "\n"
     ]
    }
   ],
   "source": [
    "predicted_ratings = model.predict(X_test_preprocessed)\n",
    "user_id = X_test.iloc[0]['User-ID']\n",
    "recommended_books = X_test.iloc[np.argsort(predicted_ratings[:,0])[::-1][:5]]\n",
    "\n",
    "def print_recommendations(recommended_books, user_id):\n",
    "    print(f\"Top 5 recommended books for user {user_id}:\\n\")\n",
    "    for i, row in recommended_books.iterrows():\n",
    "        print(f\"Book {i+1}:\")\n",
    "        print(f\"Title: {row['Book-Title']}\")\n",
    "        print(f\"Author: {row['Book-Author']}\")\n",
    "        print(f\"Publisher: {row['Publisher']}\")\n",
    "        print()\n",
    "\n",
    "# Print the recommended books for the user\n",
    "print_recommendations(recommended_books, user_id)"
   ]
  },
  {
   "cell_type": "markdown",
   "id": "5179bb78",
   "metadata": {
    "papermill": {
     "duration": 0.119447,
     "end_time": "2024-06-12T22:16:49.081042",
     "exception": false,
     "start_time": "2024-06-12T22:16:48.961595",
     "status": "completed"
    },
    "tags": []
   },
   "source": [
    "# **Saving the Model**"
   ]
  },
  {
   "cell_type": "code",
   "execution_count": 16,
   "id": "3bdf508c",
   "metadata": {
    "execution": {
     "iopub.execute_input": "2024-06-12T22:16:49.317410Z",
     "iopub.status.busy": "2024-06-12T22:16:49.317024Z",
     "iopub.status.idle": "2024-06-12T22:16:49.820334Z",
     "shell.execute_reply": "2024-06-12T22:16:49.819130Z"
    },
    "papermill": {
     "duration": 0.623401,
     "end_time": "2024-06-12T22:16:49.823140",
     "exception": false,
     "start_time": "2024-06-12T22:16:49.199739",
     "status": "completed"
    },
    "tags": []
   },
   "outputs": [],
   "source": [
    "# Save the model\n",
    "model.save('tf_model.h5')"
   ]
  }
 ],
 "metadata": {
  "kaggle": {
   "accelerator": "none",
   "dataSources": [
    {
     "datasetId": 5199309,
     "sourceId": 8674523,
     "sourceType": "datasetVersion"
    },
    {
     "datasetId": 5199318,
     "sourceId": 8674533,
     "sourceType": "datasetVersion"
    },
    {
     "datasetId": 5199322,
     "sourceId": 8674537,
     "sourceType": "datasetVersion"
    }
   ],
   "dockerImageVersionId": 30732,
   "isGpuEnabled": false,
   "isInternetEnabled": false,
   "language": "python",
   "sourceType": "notebook"
  },
  "kernelspec": {
   "display_name": "Python 3",
   "language": "python",
   "name": "python3"
  },
  "language_info": {
   "codemirror_mode": {
    "name": "ipython",
    "version": 3
   },
   "file_extension": ".py",
   "mimetype": "text/x-python",
   "name": "python",
   "nbconvert_exporter": "python",
   "pygments_lexer": "ipython3",
   "version": "3.10.13"
  },
  "papermill": {
   "default_parameters": {},
   "duration": 174.420461,
   "end_time": "2024-06-12T22:16:51.671001",
   "environment_variables": {},
   "exception": null,
   "input_path": "__notebook__.ipynb",
   "output_path": "__notebook__.ipynb",
   "parameters": {},
   "start_time": "2024-06-12T22:13:57.250540",
   "version": "2.5.0"
  }
 },
 "nbformat": 4,
 "nbformat_minor": 5
}
