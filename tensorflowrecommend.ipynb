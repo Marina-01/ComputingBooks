{
 "cells": [
  {
   "cell_type": "markdown",
   "id": "051fa8c5",
   "metadata": {
    "papermill": {
     "duration": 0.005555,
     "end_time": "2024-06-12T20:50:00.972779",
     "exception": false,
     "start_time": "2024-06-12T20:50:00.967224",
     "status": "completed"
    },
    "tags": []
   },
   "source": [
    "# **Importing Data & Dependencies**"
   ]
  },
  {
   "cell_type": "code",
   "execution_count": 1,
   "id": "c957c078",
   "metadata": {
    "execution": {
     "iopub.execute_input": "2024-06-12T20:50:00.985040Z",
     "iopub.status.busy": "2024-06-12T20:50:00.984586Z",
     "iopub.status.idle": "2024-06-12T20:50:15.886370Z",
     "shell.execute_reply": "2024-06-12T20:50:15.885259Z"
    },
    "papermill": {
     "duration": 14.910826,
     "end_time": "2024-06-12T20:50:15.888990",
     "exception": false,
     "start_time": "2024-06-12T20:50:00.978164",
     "status": "completed"
    },
    "tags": []
   },
   "outputs": [
    {
     "name": "stderr",
     "output_type": "stream",
     "text": [
      "2024-06-12 20:50:03.981072: E external/local_xla/xla/stream_executor/cuda/cuda_dnn.cc:9261] Unable to register cuDNN factory: Attempting to register factory for plugin cuDNN when one has already been registered\n",
      "2024-06-12 20:50:03.981203: E external/local_xla/xla/stream_executor/cuda/cuda_fft.cc:607] Unable to register cuFFT factory: Attempting to register factory for plugin cuFFT when one has already been registered\n",
      "2024-06-12 20:50:04.125183: E external/local_xla/xla/stream_executor/cuda/cuda_blas.cc:1515] Unable to register cuBLAS factory: Attempting to register factory for plugin cuBLAS when one has already been registered\n"
     ]
    }
   ],
   "source": [
    "import pandas as pd\n",
    "import tensorflow as tf\n",
    "from sklearn.model_selection import train_test_split\n",
    "from sklearn.preprocessing import StandardScaler, OneHotEncoder\n",
    "from sklearn.compose import ColumnTransformer\n",
    "from keras.models import Sequential\n",
    "from keras.layers import Dense, Dropout\n",
    "import numpy as np\n",
    "from keras.callbacks import EarlyStopping\n",
    "import warnings\n",
    "warnings.filterwarnings('ignore')"
   ]
  },
  {
   "cell_type": "code",
   "execution_count": 2,
   "id": "2ee5f501",
   "metadata": {
    "execution": {
     "iopub.execute_input": "2024-06-12T20:50:15.902137Z",
     "iopub.status.busy": "2024-06-12T20:50:15.901473Z",
     "iopub.status.idle": "2024-06-12T20:50:20.060891Z",
     "shell.execute_reply": "2024-06-12T20:50:20.059943Z"
    },
    "papermill": {
     "duration": 4.168914,
     "end_time": "2024-06-12T20:50:20.063413",
     "exception": false,
     "start_time": "2024-06-12T20:50:15.894499",
     "status": "completed"
    },
    "tags": []
   },
   "outputs": [],
   "source": [
    "users_df = pd.read_csv(\"/kaggle/input/users-csv/Users.csv\")\n",
    "ratings_df = pd.read_csv(\"/kaggle/input/ratings-csv/Ratings.csv\")\n",
    "books_df = pd.read_csv(\"/kaggle/input/books-csv/Books.csv\")"
   ]
  },
  {
   "cell_type": "code",
   "execution_count": 3,
   "id": "510d64f2",
   "metadata": {
    "execution": {
     "iopub.execute_input": "2024-06-12T20:50:20.075540Z",
     "iopub.status.busy": "2024-06-12T20:50:20.075174Z",
     "iopub.status.idle": "2024-06-12T20:50:20.096521Z",
     "shell.execute_reply": "2024-06-12T20:50:20.095487Z"
    },
    "papermill": {
     "duration": 0.030095,
     "end_time": "2024-06-12T20:50:20.098783",
     "exception": false,
     "start_time": "2024-06-12T20:50:20.068688",
     "status": "completed"
    },
    "tags": []
   },
   "outputs": [
    {
     "data": {
      "text/html": [
       "<div>\n",
       "<style scoped>\n",
       "    .dataframe tbody tr th:only-of-type {\n",
       "        vertical-align: middle;\n",
       "    }\n",
       "\n",
       "    .dataframe tbody tr th {\n",
       "        vertical-align: top;\n",
       "    }\n",
       "\n",
       "    .dataframe thead th {\n",
       "        text-align: right;\n",
       "    }\n",
       "</style>\n",
       "<table border=\"1\" class=\"dataframe\">\n",
       "  <thead>\n",
       "    <tr style=\"text-align: right;\">\n",
       "      <th></th>\n",
       "      <th>User-ID</th>\n",
       "      <th>Location</th>\n",
       "      <th>Age</th>\n",
       "    </tr>\n",
       "  </thead>\n",
       "  <tbody>\n",
       "    <tr>\n",
       "      <th>0</th>\n",
       "      <td>1</td>\n",
       "      <td>nyc, new york, usa</td>\n",
       "      <td>NaN</td>\n",
       "    </tr>\n",
       "    <tr>\n",
       "      <th>1</th>\n",
       "      <td>2</td>\n",
       "      <td>stockton, california, usa</td>\n",
       "      <td>18.0</td>\n",
       "    </tr>\n",
       "    <tr>\n",
       "      <th>2</th>\n",
       "      <td>3</td>\n",
       "      <td>moscow, yukon territory, russia</td>\n",
       "      <td>NaN</td>\n",
       "    </tr>\n",
       "    <tr>\n",
       "      <th>3</th>\n",
       "      <td>4</td>\n",
       "      <td>porto, v.n.gaia, portugal</td>\n",
       "      <td>17.0</td>\n",
       "    </tr>\n",
       "    <tr>\n",
       "      <th>4</th>\n",
       "      <td>5</td>\n",
       "      <td>farnborough, hants, united kingdom</td>\n",
       "      <td>NaN</td>\n",
       "    </tr>\n",
       "  </tbody>\n",
       "</table>\n",
       "</div>"
      ],
      "text/plain": [
       "   User-ID                            Location   Age\n",
       "0        1                  nyc, new york, usa   NaN\n",
       "1        2           stockton, california, usa  18.0\n",
       "2        3     moscow, yukon territory, russia   NaN\n",
       "3        4           porto, v.n.gaia, portugal  17.0\n",
       "4        5  farnborough, hants, united kingdom   NaN"
      ]
     },
     "execution_count": 3,
     "metadata": {},
     "output_type": "execute_result"
    }
   ],
   "source": [
    "users_df.head()"
   ]
  },
  {
   "cell_type": "code",
   "execution_count": 4,
   "id": "a1e1f12e",
   "metadata": {
    "execution": {
     "iopub.execute_input": "2024-06-12T20:50:20.112061Z",
     "iopub.status.busy": "2024-06-12T20:50:20.111201Z",
     "iopub.status.idle": "2024-06-12T20:50:20.121241Z",
     "shell.execute_reply": "2024-06-12T20:50:20.120099Z"
    },
    "papermill": {
     "duration": 0.019138,
     "end_time": "2024-06-12T20:50:20.123850",
     "exception": false,
     "start_time": "2024-06-12T20:50:20.104712",
     "status": "completed"
    },
    "tags": []
   },
   "outputs": [
    {
     "data": {
      "text/html": [
       "<div>\n",
       "<style scoped>\n",
       "    .dataframe tbody tr th:only-of-type {\n",
       "        vertical-align: middle;\n",
       "    }\n",
       "\n",
       "    .dataframe tbody tr th {\n",
       "        vertical-align: top;\n",
       "    }\n",
       "\n",
       "    .dataframe thead th {\n",
       "        text-align: right;\n",
       "    }\n",
       "</style>\n",
       "<table border=\"1\" class=\"dataframe\">\n",
       "  <thead>\n",
       "    <tr style=\"text-align: right;\">\n",
       "      <th></th>\n",
       "      <th>User-ID</th>\n",
       "      <th>ISBN</th>\n",
       "      <th>Book-Rating</th>\n",
       "    </tr>\n",
       "  </thead>\n",
       "  <tbody>\n",
       "    <tr>\n",
       "      <th>0</th>\n",
       "      <td>276725</td>\n",
       "      <td>034545104X</td>\n",
       "      <td>0</td>\n",
       "    </tr>\n",
       "    <tr>\n",
       "      <th>1</th>\n",
       "      <td>276726</td>\n",
       "      <td>0155061224</td>\n",
       "      <td>5</td>\n",
       "    </tr>\n",
       "    <tr>\n",
       "      <th>2</th>\n",
       "      <td>276727</td>\n",
       "      <td>0446520802</td>\n",
       "      <td>0</td>\n",
       "    </tr>\n",
       "    <tr>\n",
       "      <th>3</th>\n",
       "      <td>276729</td>\n",
       "      <td>052165615X</td>\n",
       "      <td>3</td>\n",
       "    </tr>\n",
       "    <tr>\n",
       "      <th>4</th>\n",
       "      <td>276729</td>\n",
       "      <td>0521795028</td>\n",
       "      <td>6</td>\n",
       "    </tr>\n",
       "  </tbody>\n",
       "</table>\n",
       "</div>"
      ],
      "text/plain": [
       "   User-ID        ISBN  Book-Rating\n",
       "0   276725  034545104X            0\n",
       "1   276726  0155061224            5\n",
       "2   276727  0446520802            0\n",
       "3   276729  052165615X            3\n",
       "4   276729  0521795028            6"
      ]
     },
     "execution_count": 4,
     "metadata": {},
     "output_type": "execute_result"
    }
   ],
   "source": [
    "ratings_df.head()"
   ]
  },
  {
   "cell_type": "code",
   "execution_count": 5,
   "id": "fcd925d4",
   "metadata": {
    "execution": {
     "iopub.execute_input": "2024-06-12T20:50:20.137449Z",
     "iopub.status.busy": "2024-06-12T20:50:20.136747Z",
     "iopub.status.idle": "2024-06-12T20:50:20.149926Z",
     "shell.execute_reply": "2024-06-12T20:50:20.148909Z"
    },
    "papermill": {
     "duration": 0.023079,
     "end_time": "2024-06-12T20:50:20.152632",
     "exception": false,
     "start_time": "2024-06-12T20:50:20.129553",
     "status": "completed"
    },
    "tags": []
   },
   "outputs": [
    {
     "data": {
      "text/html": [
       "<div>\n",
       "<style scoped>\n",
       "    .dataframe tbody tr th:only-of-type {\n",
       "        vertical-align: middle;\n",
       "    }\n",
       "\n",
       "    .dataframe tbody tr th {\n",
       "        vertical-align: top;\n",
       "    }\n",
       "\n",
       "    .dataframe thead th {\n",
       "        text-align: right;\n",
       "    }\n",
       "</style>\n",
       "<table border=\"1\" class=\"dataframe\">\n",
       "  <thead>\n",
       "    <tr style=\"text-align: right;\">\n",
       "      <th></th>\n",
       "      <th>ISBN</th>\n",
       "      <th>Book-Title</th>\n",
       "      <th>Book-Author</th>\n",
       "      <th>Year-Of-Publication</th>\n",
       "      <th>Publisher</th>\n",
       "      <th>Image-URL-S</th>\n",
       "      <th>Image-URL-M</th>\n",
       "      <th>Image-URL-L</th>\n",
       "    </tr>\n",
       "  </thead>\n",
       "  <tbody>\n",
       "    <tr>\n",
       "      <th>0</th>\n",
       "      <td>0195153448</td>\n",
       "      <td>Classical Mythology</td>\n",
       "      <td>Mark P. O. Morford</td>\n",
       "      <td>2002</td>\n",
       "      <td>Oxford University Press</td>\n",
       "      <td>http://images.amazon.com/images/P/0195153448.0...</td>\n",
       "      <td>http://images.amazon.com/images/P/0195153448.0...</td>\n",
       "      <td>http://images.amazon.com/images/P/0195153448.0...</td>\n",
       "    </tr>\n",
       "    <tr>\n",
       "      <th>1</th>\n",
       "      <td>0002005018</td>\n",
       "      <td>Clara Callan</td>\n",
       "      <td>Richard Bruce Wright</td>\n",
       "      <td>2001</td>\n",
       "      <td>HarperFlamingo Canada</td>\n",
       "      <td>http://images.amazon.com/images/P/0002005018.0...</td>\n",
       "      <td>http://images.amazon.com/images/P/0002005018.0...</td>\n",
       "      <td>http://images.amazon.com/images/P/0002005018.0...</td>\n",
       "    </tr>\n",
       "    <tr>\n",
       "      <th>2</th>\n",
       "      <td>0060973129</td>\n",
       "      <td>Decision in Normandy</td>\n",
       "      <td>Carlo D'Este</td>\n",
       "      <td>1991</td>\n",
       "      <td>HarperPerennial</td>\n",
       "      <td>http://images.amazon.com/images/P/0060973129.0...</td>\n",
       "      <td>http://images.amazon.com/images/P/0060973129.0...</td>\n",
       "      <td>http://images.amazon.com/images/P/0060973129.0...</td>\n",
       "    </tr>\n",
       "    <tr>\n",
       "      <th>3</th>\n",
       "      <td>0374157065</td>\n",
       "      <td>Flu: The Story of the Great Influenza Pandemic...</td>\n",
       "      <td>Gina Bari Kolata</td>\n",
       "      <td>1999</td>\n",
       "      <td>Farrar Straus Giroux</td>\n",
       "      <td>http://images.amazon.com/images/P/0374157065.0...</td>\n",
       "      <td>http://images.amazon.com/images/P/0374157065.0...</td>\n",
       "      <td>http://images.amazon.com/images/P/0374157065.0...</td>\n",
       "    </tr>\n",
       "    <tr>\n",
       "      <th>4</th>\n",
       "      <td>0393045218</td>\n",
       "      <td>The Mummies of Urumchi</td>\n",
       "      <td>E. J. W. Barber</td>\n",
       "      <td>1999</td>\n",
       "      <td>W. W. Norton &amp;amp; Company</td>\n",
       "      <td>http://images.amazon.com/images/P/0393045218.0...</td>\n",
       "      <td>http://images.amazon.com/images/P/0393045218.0...</td>\n",
       "      <td>http://images.amazon.com/images/P/0393045218.0...</td>\n",
       "    </tr>\n",
       "  </tbody>\n",
       "</table>\n",
       "</div>"
      ],
      "text/plain": [
       "         ISBN                                         Book-Title  \\\n",
       "0  0195153448                                Classical Mythology   \n",
       "1  0002005018                                       Clara Callan   \n",
       "2  0060973129                               Decision in Normandy   \n",
       "3  0374157065  Flu: The Story of the Great Influenza Pandemic...   \n",
       "4  0393045218                             The Mummies of Urumchi   \n",
       "\n",
       "            Book-Author Year-Of-Publication                   Publisher  \\\n",
       "0    Mark P. O. Morford                2002     Oxford University Press   \n",
       "1  Richard Bruce Wright                2001       HarperFlamingo Canada   \n",
       "2          Carlo D'Este                1991             HarperPerennial   \n",
       "3      Gina Bari Kolata                1999        Farrar Straus Giroux   \n",
       "4       E. J. W. Barber                1999  W. W. Norton &amp; Company   \n",
       "\n",
       "                                         Image-URL-S  \\\n",
       "0  http://images.amazon.com/images/P/0195153448.0...   \n",
       "1  http://images.amazon.com/images/P/0002005018.0...   \n",
       "2  http://images.amazon.com/images/P/0060973129.0...   \n",
       "3  http://images.amazon.com/images/P/0374157065.0...   \n",
       "4  http://images.amazon.com/images/P/0393045218.0...   \n",
       "\n",
       "                                         Image-URL-M  \\\n",
       "0  http://images.amazon.com/images/P/0195153448.0...   \n",
       "1  http://images.amazon.com/images/P/0002005018.0...   \n",
       "2  http://images.amazon.com/images/P/0060973129.0...   \n",
       "3  http://images.amazon.com/images/P/0374157065.0...   \n",
       "4  http://images.amazon.com/images/P/0393045218.0...   \n",
       "\n",
       "                                         Image-URL-L  \n",
       "0  http://images.amazon.com/images/P/0195153448.0...  \n",
       "1  http://images.amazon.com/images/P/0002005018.0...  \n",
       "2  http://images.amazon.com/images/P/0060973129.0...  \n",
       "3  http://images.amazon.com/images/P/0374157065.0...  \n",
       "4  http://images.amazon.com/images/P/0393045218.0...  "
      ]
     },
     "execution_count": 5,
     "metadata": {},
     "output_type": "execute_result"
    }
   ],
   "source": [
    "books_df.head()"
   ]
  },
  {
   "cell_type": "markdown",
   "id": "28396c60",
   "metadata": {
    "papermill": {
     "duration": 0.005512,
     "end_time": "2024-06-12T20:50:20.163901",
     "exception": false,
     "start_time": "2024-06-12T20:50:20.158389",
     "status": "completed"
    },
    "tags": []
   },
   "source": [
    "# **Preprocessing Data**"
   ]
  },
  {
   "cell_type": "code",
   "execution_count": 6,
   "id": "42295b9e",
   "metadata": {
    "execution": {
     "iopub.execute_input": "2024-06-12T20:50:20.176633Z",
     "iopub.status.busy": "2024-06-12T20:50:20.176251Z",
     "iopub.status.idle": "2024-06-12T20:50:22.203093Z",
     "shell.execute_reply": "2024-06-12T20:50:22.202149Z"
    },
    "papermill": {
     "duration": 2.036439,
     "end_time": "2024-06-12T20:50:22.205953",
     "exception": false,
     "start_time": "2024-06-12T20:50:20.169514",
     "status": "completed"
    },
    "tags": []
   },
   "outputs": [],
   "source": [
    "# Dropping Image Columns\n",
    "books_df.drop(books_df.columns[5:], axis=1, inplace=True)\n",
    "\n",
    "# Merge datasets\n",
    "merged_df = pd.merge(ratings_df, books_df, on='ISBN')\n",
    "final_df = pd.merge(merged_df, users_df, on='User-ID')\n",
    "\n",
    "# Drop NA values\n",
    "final_df.dropna(inplace=True)"
   ]
  },
  {
   "cell_type": "code",
   "execution_count": 7,
   "id": "16d45ae8",
   "metadata": {
    "execution": {
     "iopub.execute_input": "2024-06-12T20:50:22.219421Z",
     "iopub.status.busy": "2024-06-12T20:50:22.219070Z",
     "iopub.status.idle": "2024-06-12T20:50:22.642118Z",
     "shell.execute_reply": "2024-06-12T20:50:22.641061Z"
    },
    "papermill": {
     "duration": 0.432685,
     "end_time": "2024-06-12T20:50:22.644652",
     "exception": false,
     "start_time": "2024-06-12T20:50:22.211967",
     "status": "completed"
    },
    "tags": []
   },
   "outputs": [],
   "source": [
    "# Replace non-numeric values with '0'\n",
    "final_df['Year-Of-Publication'] = final_df['Year-Of-Publication'].replace(['Gallimard', 'DK Publishing Inc'], '0')\n",
    "\n",
    "# Convert specific columns to integers\n",
    "final_df['User-ID'] = final_df['User-ID'].astype(int)\n",
    "final_df['Book-Rating'] = final_df['Book-Rating'].astype(int)\n",
    "final_df['Age'] = final_df['Age'].astype(int)\n",
    "final_df['Year-Of-Publication'] = final_df['Year-Of-Publication'].astype(int)\n",
    "\n",
    "# Convert specific columns to strings\n",
    "final_df['ISBN'] = final_df['ISBN'].astype(str)\n",
    "final_df['Book-Title'] = final_df['Book-Title'].astype(str)\n",
    "final_df['Book-Author'] = final_df['Book-Author'].astype(str)\n",
    "final_df['Publisher'] = final_df['Publisher'].astype(str)\n",
    "final_df['Location'] = final_df['Location'].astype(str)"
   ]
  },
  {
   "cell_type": "code",
   "execution_count": 8,
   "id": "2c8b62ea",
   "metadata": {
    "execution": {
     "iopub.execute_input": "2024-06-12T20:50:22.658421Z",
     "iopub.status.busy": "2024-06-12T20:50:22.657634Z",
     "iopub.status.idle": "2024-06-12T20:50:22.663699Z",
     "shell.execute_reply": "2024-06-12T20:50:22.662612Z"
    },
    "papermill": {
     "duration": 0.015399,
     "end_time": "2024-06-12T20:50:22.665949",
     "exception": false,
     "start_time": "2024-06-12T20:50:22.650550",
     "status": "completed"
    },
    "tags": []
   },
   "outputs": [],
   "source": [
    "# Define which columns are categorical and numerical\n",
    "categorical_cols = ['ISBN', 'Book-Title', 'Book-Author', 'Publisher', 'Location']\n",
    "numerical_cols = ['User-ID', 'Age', 'Year-Of-Publication']\n",
    "\n",
    "preprocessor = ColumnTransformer(\n",
    "    transformers=[\n",
    "        ('cat', OneHotEncoder(handle_unknown='ignore'), categorical_cols),\n",
    "        ('num', StandardScaler(), numerical_cols)\n",
    "    ],\n",
    "    remainder='passthrough'\n",
    ")"
   ]
  },
  {
   "cell_type": "code",
   "execution_count": 9,
   "id": "ef043519",
   "metadata": {
    "execution": {
     "iopub.execute_input": "2024-06-12T20:50:22.679604Z",
     "iopub.status.busy": "2024-06-12T20:50:22.678712Z",
     "iopub.status.idle": "2024-06-12T20:50:23.344070Z",
     "shell.execute_reply": "2024-06-12T20:50:23.342933Z"
    },
    "papermill": {
     "duration": 0.675124,
     "end_time": "2024-06-12T20:50:23.346961",
     "exception": false,
     "start_time": "2024-06-12T20:50:22.671837",
     "status": "completed"
    },
    "tags": []
   },
   "outputs": [],
   "source": [
    "# Take a random subset of half the data\n",
    "subset_df = final_df.sample(frac=0.15, random_state=42)\n",
    "\n",
    "# Split data into train and test sets\n",
    "X = final_df.drop(['Book-Rating'], axis=1)\n",
    "y = final_df['Book-Rating']\n",
    "X_train, X_test, y_train, y_test = train_test_split(X, y, test_size=0.2, random_state=42)"
   ]
  },
  {
   "cell_type": "code",
   "execution_count": 10,
   "id": "a91abb8f",
   "metadata": {
    "execution": {
     "iopub.execute_input": "2024-06-12T20:50:23.360578Z",
     "iopub.status.busy": "2024-06-12T20:50:23.360193Z",
     "iopub.status.idle": "2024-06-12T20:50:29.523586Z",
     "shell.execute_reply": "2024-06-12T20:50:29.522540Z"
    },
    "papermill": {
     "duration": 6.173193,
     "end_time": "2024-06-12T20:50:29.526173",
     "exception": false,
     "start_time": "2024-06-12T20:50:23.352980",
     "status": "completed"
    },
    "tags": []
   },
   "outputs": [],
   "source": [
    "# Fit and transform preprocessing on training data, and transform on test data\n",
    "X_train_preprocessed = preprocessor.fit_transform(X_train)\n",
    "X_test_preprocessed = preprocessor.transform(X_test)"
   ]
  },
  {
   "cell_type": "markdown",
   "id": "ca1f3862",
   "metadata": {
    "papermill": {
     "duration": 0.005646,
     "end_time": "2024-06-12T20:50:29.537960",
     "exception": false,
     "start_time": "2024-06-12T20:50:29.532314",
     "status": "completed"
    },
    "tags": []
   },
   "source": [
    "# **Building The Tensorflow Model predicting Book-Rating**"
   ]
  },
  {
   "cell_type": "code",
   "execution_count": 11,
   "id": "e9b636c7",
   "metadata": {
    "execution": {
     "iopub.execute_input": "2024-06-12T20:50:29.551537Z",
     "iopub.status.busy": "2024-06-12T20:50:29.551174Z",
     "iopub.status.idle": "2024-06-12T20:50:29.881536Z",
     "shell.execute_reply": "2024-06-12T20:50:29.880519Z"
    },
    "papermill": {
     "duration": 0.340275,
     "end_time": "2024-06-12T20:50:29.884144",
     "exception": false,
     "start_time": "2024-06-12T20:50:29.543869",
     "status": "completed"
    },
    "tags": []
   },
   "outputs": [],
   "source": [
    "# Define your model architecture\n",
    "model = tf.keras.Sequential([\n",
    "    tf.keras.layers.Dense(64, activation='relu', input_shape=(X_train_preprocessed.shape[1],)),\n",
    "    tf.keras.layers.Dense(32, activation='relu'),\n",
    "    tf.keras.layers.Dense(1) \n",
    "])"
   ]
  },
  {
   "cell_type": "code",
   "execution_count": 12,
   "id": "a731f078",
   "metadata": {
    "execution": {
     "iopub.execute_input": "2024-06-12T20:50:29.897522Z",
     "iopub.status.busy": "2024-06-12T20:50:29.897137Z",
     "iopub.status.idle": "2024-06-12T20:50:29.912236Z",
     "shell.execute_reply": "2024-06-12T20:50:29.911174Z"
    },
    "papermill": {
     "duration": 0.024936,
     "end_time": "2024-06-12T20:50:29.914961",
     "exception": false,
     "start_time": "2024-06-12T20:50:29.890025",
     "status": "completed"
    },
    "tags": []
   },
   "outputs": [],
   "source": [
    "# Compile the model\n",
    "model.compile(loss='mean_squared_error', optimizer='adam', metrics=['mean_squared_error'])"
   ]
  },
  {
   "cell_type": "code",
   "execution_count": 13,
   "id": "e4e84ab7",
   "metadata": {
    "execution": {
     "iopub.execute_input": "2024-06-12T20:50:29.929175Z",
     "iopub.status.busy": "2024-06-12T20:50:29.928338Z",
     "iopub.status.idle": "2024-06-12T20:52:58.182531Z",
     "shell.execute_reply": "2024-06-12T20:52:58.181371Z"
    },
    "papermill": {
     "duration": 148.263935,
     "end_time": "2024-06-12T20:52:58.184977",
     "exception": false,
     "start_time": "2024-06-12T20:50:29.921042",
     "status": "completed"
    },
    "tags": []
   },
   "outputs": [
    {
     "name": "stdout",
     "output_type": "stream",
     "text": [
      "Epoch 1/10\n",
      "\u001b[1m118/118\u001b[0m \u001b[32m━━━━━━━━━━━━━━━━━━━━\u001b[0m\u001b[37m\u001b[0m \u001b[1m15s\u001b[0m 122ms/step - loss: 16.1381 - mean_squared_error: 16.1381 - val_loss: 14.8653 - val_mean_squared_error: 14.8653\n",
      "Epoch 2/10\n",
      "\u001b[1m118/118\u001b[0m \u001b[32m━━━━━━━━━━━━━━━━━━━━\u001b[0m\u001b[37m\u001b[0m \u001b[1m14s\u001b[0m 115ms/step - loss: 14.5173 - mean_squared_error: 14.5173 - val_loss: 13.5167 - val_mean_squared_error: 13.5167\n",
      "Epoch 3/10\n",
      "\u001b[1m118/118\u001b[0m \u001b[32m━━━━━━━━━━━━━━━━━━━━\u001b[0m\u001b[37m\u001b[0m \u001b[1m14s\u001b[0m 118ms/step - loss: 12.9068 - mean_squared_error: 12.9068 - val_loss: 12.6790 - val_mean_squared_error: 12.6790\n",
      "Epoch 4/10\n",
      "\u001b[1m118/118\u001b[0m \u001b[32m━━━━━━━━━━━━━━━━━━━━\u001b[0m\u001b[37m\u001b[0m \u001b[1m14s\u001b[0m 117ms/step - loss: 12.1481 - mean_squared_error: 12.1481 - val_loss: 12.4130 - val_mean_squared_error: 12.4130\n",
      "Epoch 5/10\n",
      "\u001b[1m118/118\u001b[0m \u001b[32m━━━━━━━━━━━━━━━━━━━━\u001b[0m\u001b[37m\u001b[0m \u001b[1m14s\u001b[0m 116ms/step - loss: 11.7119 - mean_squared_error: 11.7119 - val_loss: 12.3300 - val_mean_squared_error: 12.3300\n",
      "Epoch 6/10\n",
      "\u001b[1m118/118\u001b[0m \u001b[32m━━━━━━━━━━━━━━━━━━━━\u001b[0m\u001b[37m\u001b[0m \u001b[1m14s\u001b[0m 119ms/step - loss: 11.2982 - mean_squared_error: 11.2982 - val_loss: 12.3573 - val_mean_squared_error: 12.3573\n",
      "Epoch 7/10\n",
      "\u001b[1m118/118\u001b[0m \u001b[32m━━━━━━━━━━━━━━━━━━━━\u001b[0m\u001b[37m\u001b[0m \u001b[1m14s\u001b[0m 118ms/step - loss: 11.0671 - mean_squared_error: 11.0671 - val_loss: 12.2102 - val_mean_squared_error: 12.2102\n",
      "Epoch 8/10\n",
      "\u001b[1m118/118\u001b[0m \u001b[32m━━━━━━━━━━━━━━━━━━━━\u001b[0m\u001b[37m\u001b[0m \u001b[1m14s\u001b[0m 119ms/step - loss: 11.2390 - mean_squared_error: 11.2390 - val_loss: 14.0175 - val_mean_squared_error: 14.0175\n",
      "Epoch 9/10\n",
      "\u001b[1m118/118\u001b[0m \u001b[32m━━━━━━━━━━━━━━━━━━━━\u001b[0m\u001b[37m\u001b[0m \u001b[1m14s\u001b[0m 117ms/step - loss: 10.9173 - mean_squared_error: 10.9173 - val_loss: 12.6737 - val_mean_squared_error: 12.6737\n",
      "Epoch 10/10\n",
      "\u001b[1m118/118\u001b[0m \u001b[32m━━━━━━━━━━━━━━━━━━━━\u001b[0m\u001b[37m\u001b[0m \u001b[1m14s\u001b[0m 119ms/step - loss: 10.2118 - mean_squared_error: 10.2118 - val_loss: 18.1366 - val_mean_squared_error: 18.1366\n",
      "\u001b[1m4709/4709\u001b[0m \u001b[32m━━━━━━━━━━━━━━━━━━━━\u001b[0m\u001b[37m\u001b[0m \u001b[1m6s\u001b[0m 1ms/step - loss: 12.1126 - mean_squared_error: 12.1126\n",
      "Mean Squared Error: 12.137928009033203\n"
     ]
    }
   ],
   "source": [
    "## from tensorflow.keras.models import Sequential\n",
    "from tensorflow.keras.layers import Dense\n",
    "from tensorflow.keras.optimizers import SGD\n",
    "from tensorflow.keras.callbacks import EarlyStopping\n",
    "\n",
    "# Define and compile the model with SGD optimizer and a lower learning rate\n",
    "model = Sequential([\n",
    "    Dense(64, activation='relu', input_shape=(X_train_preprocessed.shape[1],)),\n",
    "    Dense(32, activation='relu'),\n",
    "    Dense(1, activation='relu')\n",
    "])\n",
    "sgd = SGD(learning_rate=0.01, momentum=0.9)  # Correctly specifying the learning rate parameter\n",
    "model.compile(loss='mean_squared_error', optimizer=sgd, metrics=['mean_squared_error'])\n",
    "\n",
    "# Implement early stopping to prevent overfitting\n",
    "early_stopping = EarlyStopping(patience=3, restore_best_weights=True)\n",
    "\n",
    "# Train the model with larger batch size and early stopping\n",
    "history = model.fit(X_train_preprocessed, y_train, epochs=10, validation_split=0.2, batch_size=4096, callbacks=[early_stopping])\n",
    "\n",
    "# Evaluate the model\n",
    "mse, _ = model.evaluate(X_test_preprocessed, y_test)\n",
    "print(\"Mean Squared Error:\", mse)\n"
   ]
  },
  {
   "cell_type": "code",
   "execution_count": 14,
   "id": "a3c99610",
   "metadata": {
    "execution": {
     "iopub.execute_input": "2024-06-12T20:52:58.369726Z",
     "iopub.status.busy": "2024-06-12T20:52:58.369325Z",
     "iopub.status.idle": "2024-06-12T20:52:58.625129Z",
     "shell.execute_reply": "2024-06-12T20:52:58.624067Z"
    },
    "papermill": {
     "duration": 0.35085,
     "end_time": "2024-06-12T20:52:58.627706",
     "exception": false,
     "start_time": "2024-06-12T20:52:58.276856",
     "status": "completed"
    },
    "tags": []
   },
   "outputs": [
    {
     "data": {
      "image/png": "[encoded data removed]",
      "text/plain": [
       "<Figure size 640x480 with 1 Axes>"
      ]
     },
     "metadata": {},
     "output_type": "display_data"
    }
   ],
   "source": [
    "import matplotlib.pyplot as plt\n",
    "\n",
    "# Plot training & validation loss values\n",
    "plt.plot(history.history['loss'])\n",
    "plt.plot(history.history['val_loss'])\n",
    "plt.title('Model loss')\n",
    "plt.ylabel('Loss')\n",
    "plt.xlabel('Epoch')\n",
    "plt.legend(['Train', 'Validation'], loc='upper left')\n",
    "plt.show()\n"
   ]
  },
  {
   "cell_type": "code",
   "execution_count": 15,
   "id": "a1d1b2e6",
   "metadata": {
    "execution": {
     "iopub.execute_input": "2024-06-12T20:52:58.877389Z",
     "iopub.status.busy": "2024-06-12T20:52:58.877034Z",
     "iopub.status.idle": "2024-06-12T20:53:05.042063Z",
     "shell.execute_reply": "2024-06-12T20:53:05.040928Z"
    },
    "papermill": {
     "duration": 6.260384,
     "end_time": "2024-06-12T20:53:05.044435",
     "exception": false,
     "start_time": "2024-06-12T20:52:58.784051",
     "status": "completed"
    },
    "tags": []
   },
   "outputs": [
    {
     "name": "stdout",
     "output_type": "stream",
     "text": [
      "\u001b[1m4709/4709\u001b[0m \u001b[32m━━━━━━━━━━━━━━━━━━━━\u001b[0m\u001b[37m\u001b[0m \u001b[1m6s\u001b[0m 1ms/step - loss: 12.1126 - mean_squared_error: 12.1126\n",
      "Mean Squared Error: 12.137928009033203\n"
     ]
    }
   ],
   "source": [
    "#Evaluate the model\n",
    "mse, _ = model.evaluate(X_test_preprocessed, y_test)\n",
    "print(\"Mean Squared Error:\", mse)"
   ]
  },
  {
   "cell_type": "code",
   "execution_count": 16,
   "id": "777e9dd6",
   "metadata": {
    "execution": {
     "iopub.execute_input": "2024-06-12T20:53:05.248127Z",
     "iopub.status.busy": "2024-06-12T20:53:05.247737Z",
     "iopub.status.idle": "2024-06-12T20:53:16.254609Z",
     "shell.execute_reply": "2024-06-12T20:53:16.253502Z"
    },
    "papermill": {
     "duration": 11.111239,
     "end_time": "2024-06-12T20:53:16.257031",
     "exception": false,
     "start_time": "2024-06-12T20:53:05.145792",
     "status": "completed"
    },
    "tags": []
   },
   "outputs": [
    {
     "name": "stdout",
     "output_type": "stream",
     "text": [
      "\u001b[1m4709/4709\u001b[0m \u001b[32m━━━━━━━━━━━━━━━━━━━━\u001b[0m\u001b[37m\u001b[0m \u001b[1m9s\u001b[0m 2ms/step\n",
      "Top 5 recommended books for user 114444 :\n",
      "                      Book-Title            Book-Author  \\\n",
      "557193                The Lorax              Dr. Seuss   \n",
      "390065                The Lorax              Dr. Seuss   \n",
      "578247    Ranma 1/2 (Ranma 1/2)       Rumiko Takahashi   \n",
      "914907  Autobiography of a Yogi  Paramahansa Yogananda   \n",
      "914834          Midnight Voices              JOHN SAUL   \n",
      "\n",
      "                                     Publisher  \n",
      "557193           Random House Children's Books  \n",
      "390065           Random House Children's Books  \n",
      "578247                                 VIZ LLC  \n",
      "914907  Self-Realization Fellowship Publishers  \n",
      "914834                        Ballantine Books  \n"
     ]
    }
   ],
   "source": [
    "predicted_ratings = model.predict(X_test_preprocessed)\n",
    "user_id = X_test.iloc[0]['User-ID']\n",
    "recommended_books = X_test.iloc[np.argsort(predicted_ratings[:,0])[::-1][:5]]\n",
    "print(\"Top 5 recommended books for user\", user_id, \":\\n\", recommended_books[['Book-Title', 'Book-Author', 'Publisher']])"
   ]
  },
  {
   "cell_type": "markdown",
   "id": "ef3fee9a",
   "metadata": {
    "papermill": {
     "duration": 0.113613,
     "end_time": "2024-06-12T20:53:16.483856",
     "exception": false,
     "start_time": "2024-06-12T20:53:16.370243",
     "status": "completed"
    },
    "tags": []
   },
   "source": [
    "# **Saving the Model**"
   ]
  },
  {
   "cell_type": "code",
   "execution_count": 17,
   "id": "ab467690",
   "metadata": {
    "execution": {
     "iopub.execute_input": "2024-06-12T20:53:16.708962Z",
     "iopub.status.busy": "2024-06-12T20:53:16.708452Z",
     "iopub.status.idle": "2024-06-12T20:53:17.025764Z",
     "shell.execute_reply": "2024-06-12T20:53:17.024549Z"
    },
    "papermill": {
     "duration": 0.433669,
     "end_time": "2024-06-12T20:53:17.028456",
     "exception": false,
     "start_time": "2024-06-12T20:53:16.594787",
     "status": "completed"
    },
    "tags": []
   },
   "outputs": [],
   "source": [
    "#Save the model\n",
    "model.save('tf_model.h5')"
   ]
  }
 ],
 "metadata": {
  "kaggle": {
   "accelerator": "none",
   "dataSources": [
    {
     "datasetId": 5199309,
     "sourceId": 8674523,
     "sourceType": "datasetVersion"
    },
    {
     "datasetId": 5199318,
     "sourceId": 8674533,
     "sourceType": "datasetVersion"
    },
    {
     "datasetId": 5199322,
     "sourceId": 8674537,
     "sourceType": "datasetVersion"
    }
   ],
   "dockerImageVersionId": 30732,
   "isGpuEnabled": false,
   "isInternetEnabled": false,
   "language": "python",
   "sourceType": "notebook"
  },
  "kernelspec": {
   "display_name": "Python 3",
   "language": "python",
   "name": "python3"
  },
  "language_info": {
   "codemirror_mode": {
    "name": "ipython",
    "version": 3
   },
   "file_extension": ".py",
   "mimetype": "text/x-python",
   "name": "python",
   "nbconvert_exporter": "python",
   "pygments_lexer": "ipython3",
   "version": "3.10.13"
  },
  "papermill": {
   "default_parameters": {},
   "duration": 200.783305,
   "end_time": "2024-06-12T20:53:18.968758",
   "environment_variables": {},
   "exception": null,
   "input_path": "__notebook__.ipynb",
   "output_path": "__notebook__.ipynb",
   "parameters": {},
   "start_time": "2024-06-12T20:49:58.185453",
   "version": "2.5.0"
  }
 },
 "nbformat": 4,
 "nbformat_minor": 5
}
