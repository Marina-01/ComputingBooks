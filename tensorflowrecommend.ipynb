{
 "cells": [
  {
   "cell_type": "markdown",
   "id": "531b3901",
   "metadata": {
    "papermill": {
     "duration": 0.002966,
     "end_time": "2024-06-12T13:59:43.001702",
     "exception": false,
     "start_time": "2024-06-12T13:59:42.998736",
     "status": "completed"
    },
    "tags": []
   },
   "source": [
    "# **Importing Data**"
   ]
  },
  {
   "cell_type": "code",
   "execution_count": 1,
   "id": "14866546",
   "metadata": {
    "execution": {
     "iopub.execute_input": "2024-06-12T13:59:43.010835Z",
     "iopub.status.busy": "2024-06-12T13:59:43.010264Z",
     "iopub.status.idle": "2024-06-12T13:59:45.615061Z",
     "shell.execute_reply": "2024-06-12T13:59:45.613758Z"
    },
    "papermill": {
     "duration": 2.613457,
     "end_time": "2024-06-12T13:59:45.618761",
     "exception": false,
     "start_time": "2024-06-12T13:59:43.005304",
     "status": "completed"
    },
    "tags": []
   },
   "outputs": [],
   "source": [
    "import pandas as pd\n",
    "from sklearn.model_selection import train_test_split"
   ]
  },
  {
   "cell_type": "code",
   "execution_count": 2,
   "id": "7890b8e0",
   "metadata": {
    "execution": {
     "iopub.execute_input": "2024-06-12T13:59:45.627548Z",
     "iopub.status.busy": "2024-06-12T13:59:45.625871Z",
     "iopub.status.idle": "2024-06-12T13:59:52.317408Z",
     "shell.execute_reply": "2024-06-12T13:59:52.315776Z"
    },
    "papermill": {
     "duration": 6.698684,
     "end_time": "2024-06-12T13:59:52.320165",
     "exception": false,
     "start_time": "2024-06-12T13:59:45.621481",
     "status": "completed"
    },
    "tags": []
   },
   "outputs": [
    {
     "name": "stderr",
     "output_type": "stream",
     "text": [
      "/tmp/ipykernel_18/1342344810.py:3: DtypeWarning: Columns (3) have mixed types. Specify dtype option on import or set low_memory=False.\n",
      "  books_df = pd.read_csv(\"/kaggle/input/books-csv/Books.csv\")\n"
     ]
    }
   ],
   "source": [
    "users_df = pd.read_csv(\"/kaggle/input/users-csv/Users.csv\")\n",
    "ratings_df = pd.read_csv(\"/kaggle/input/ratings-csv/Ratings.csv\")\n",
    "books_df = pd.read_csv(\"/kaggle/input/books-csv/Books.csv\")"
   ]
  }
 ],
 "metadata": {
  "kaggle": {
   "accelerator": "none",
   "dataSources": [
    {
     "datasetId": 5199309,
     "sourceId": 8674523,
     "sourceType": "datasetVersion"
    },
    {
     "datasetId": 5199318,
     "sourceId": 8674533,
     "sourceType": "datasetVersion"
    },
    {
     "datasetId": 5199322,
     "sourceId": 8674537,
     "sourceType": "datasetVersion"
    }
   ],
   "dockerImageVersionId": 30732,
   "isGpuEnabled": false,
   "isInternetEnabled": false,
   "language": "python",
   "sourceType": "notebook"
  },
  "kernelspec": {
   "display_name": "Python 3",
   "language": "python",
   "name": "python3"
  },
  "language_info": {
   "codemirror_mode": {
    "name": "ipython",
    "version": 3
   },
   "file_extension": ".py",
   "mimetype": "text/x-python",
   "name": "python",
   "nbconvert_exporter": "python",
   "pygments_lexer": "ipython3",
   "version": "3.10.13"
  },
  "papermill": {
   "default_parameters": {},
   "duration": 13.462211,
   "end_time": "2024-06-12T13:59:53.148524",
   "environment_variables": {},
   "exception": null,
   "input_path": "__notebook__.ipynb",
   "output_path": "__notebook__.ipynb",
   "parameters": {},
   "start_time": "2024-06-12T13:59:39.686313",
   "version": "2.5.0"
  }
 },
 "nbformat": 4,
 "nbformat_minor": 5
}
