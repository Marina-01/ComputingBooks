{
 "cells": [
  {
   "cell_type": "markdown",
   "id": "2cc68adc",
   "metadata": {
    "papermill": {
     "duration": 0.005833,
     "end_time": "2024-06-12T21:06:15.886947",
     "exception": false,
     "start_time": "2024-06-12T21:06:15.881114",
     "status": "completed"
    },
    "tags": []
   },
   "source": [
    "# **Importing Data & Dependencies**"
   ]
  },
  {
   "cell_type": "code",
   "execution_count": 1,
   "id": "74dea1a1",
   "metadata": {
    "execution": {
     "iopub.execute_input": "2024-06-12T21:06:15.900026Z",
     "iopub.status.busy": "2024-06-12T21:06:15.899186Z",
     "iopub.status.idle": "2024-06-12T21:06:32.568653Z",
     "shell.execute_reply": "2024-06-12T21:06:32.567340Z"
    },
    "papermill": {
     "duration": 16.679116,
     "end_time": "2024-06-12T21:06:32.571591",
     "exception": false,
     "start_time": "2024-06-12T21:06:15.892475",
     "status": "completed"
    },
    "tags": []
   },
   "outputs": [
    {
     "name": "stderr",
     "output_type": "stream",
     "text": [
      "2024-06-12 21:06:19.178235: E external/local_xla/xla/stream_executor/cuda/cuda_dnn.cc:9261] Unable to register cuDNN factory: Attempting to register factory for plugin cuDNN when one has already been registered\n",
      "2024-06-12 21:06:19.178377: E external/local_xla/xla/stream_executor/cuda/cuda_fft.cc:607] Unable to register cuFFT factory: Attempting to register factory for plugin cuFFT when one has already been registered\n",
      "2024-06-12 21:06:19.341657: E external/local_xla/xla/stream_executor/cuda/cuda_blas.cc:1515] Unable to register cuBLAS factory: Attempting to register factory for plugin cuBLAS when one has already been registered\n"
     ]
    }
   ],
   "source": [
    "import pandas as pd\n",
    "import numpy as np\n",
    "import matplotlib.pyplot as plt\n",
    "import tensorflow as tf\n",
    "\n",
    "from sklearn.model_selection import train_test_split\n",
    "from sklearn.preprocessing import StandardScaler, OneHotEncoder\n",
    "from sklearn.compose import ColumnTransformer\n",
    "\n",
    "from keras.models import Sequential\n",
    "from keras.layers import Dense, Dropout\n",
    "\n",
    "from tensorflow.keras.optimizers import SGD\n",
    "from tensorflow.keras.callbacks import EarlyStopping\n",
    "\n",
    "import warnings\n",
    "warnings.filterwarnings('ignore')"
   ]
  },
  {
   "cell_type": "code",
   "execution_count": 2,
   "id": "eb4f6b94",
   "metadata": {
    "execution": {
     "iopub.execute_input": "2024-06-12T21:06:32.585161Z",
     "iopub.status.busy": "2024-06-12T21:06:32.584397Z",
     "iopub.status.idle": "2024-06-12T21:06:36.513767Z",
     "shell.execute_reply": "2024-06-12T21:06:36.511996Z"
    },
    "papermill": {
     "duration": 3.939201,
     "end_time": "2024-06-12T21:06:36.516626",
     "exception": false,
     "start_time": "2024-06-12T21:06:32.577425",
     "status": "completed"
    },
    "tags": []
   },
   "outputs": [],
   "source": [
    "users_df = pd.read_csv(\"/kaggle/input/users-csv/Users.csv\")\n",
    "ratings_df = pd.read_csv(\"/kaggle/input/ratings-csv/Ratings.csv\")\n",
    "books_df = pd.read_csv(\"/kaggle/input/books-csv/Books.csv\")"
   ]
  },
  {
   "cell_type": "code",
   "execution_count": 3,
   "id": "637569a4",
   "metadata": {
    "execution": {
     "iopub.execute_input": "2024-06-12T21:06:36.529691Z",
     "iopub.status.busy": "2024-06-12T21:06:36.529245Z",
     "iopub.status.idle": "2024-06-12T21:06:36.556248Z",
     "shell.execute_reply": "2024-06-12T21:06:36.554661Z"
    },
    "papermill": {
     "duration": 0.036727,
     "end_time": "2024-06-12T21:06:36.559068",
     "exception": false,
     "start_time": "2024-06-12T21:06:36.522341",
     "status": "completed"
    },
    "tags": []
   },
   "outputs": [
    {
     "data": {
      "text/html": [
       "<div>\n",
       "<style scoped>\n",
       "    .dataframe tbody tr th:only-of-type {\n",
       "        vertical-align: middle;\n",
       "    }\n",
       "\n",
       "    .dataframe tbody tr th {\n",
       "        vertical-align: top;\n",
       "    }\n",
       "\n",
       "    .dataframe thead th {\n",
       "        text-align: right;\n",
       "    }\n",
       "</style>\n",
       "<table border=\"1\" class=\"dataframe\">\n",
       "  <thead>\n",
       "    <tr style=\"text-align: right;\">\n",
       "      <th></th>\n",
       "      <th>User-ID</th>\n",
       "      <th>Location</th>\n",
       "      <th>Age</th>\n",
       "    </tr>\n",
       "  </thead>\n",
       "  <tbody>\n",
       "    <tr>\n",
       "      <th>0</th>\n",
       "      <td>1</td>\n",
       "      <td>nyc, new york, usa</td>\n",
       "      <td>NaN</td>\n",
       "    </tr>\n",
       "    <tr>\n",
       "      <th>1</th>\n",
       "      <td>2</td>\n",
       "      <td>stockton, california, usa</td>\n",
       "      <td>18.0</td>\n",
       "    </tr>\n",
       "    <tr>\n",
       "      <th>2</th>\n",
       "      <td>3</td>\n",
       "      <td>moscow, yukon territory, russia</td>\n",
       "      <td>NaN</td>\n",
       "    </tr>\n",
       "    <tr>\n",
       "      <th>3</th>\n",
       "      <td>4</td>\n",
       "      <td>porto, v.n.gaia, portugal</td>\n",
       "      <td>17.0</td>\n",
       "    </tr>\n",
       "    <tr>\n",
       "      <th>4</th>\n",
       "      <td>5</td>\n",
       "      <td>farnborough, hants, united kingdom</td>\n",
       "      <td>NaN</td>\n",
       "    </tr>\n",
       "  </tbody>\n",
       "</table>\n",
       "</div>"
      ],
      "text/plain": [
       "   User-ID                            Location   Age\n",
       "0        1                  nyc, new york, usa   NaN\n",
       "1        2           stockton, california, usa  18.0\n",
       "2        3     moscow, yukon territory, russia   NaN\n",
       "3        4           porto, v.n.gaia, portugal  17.0\n",
       "4        5  farnborough, hants, united kingdom   NaN"
      ]
     },
     "execution_count": 3,
     "metadata": {},
     "output_type": "execute_result"
    }
   ],
   "source": [
    "users_df.head()"
   ]
  },
  {
   "cell_type": "code",
   "execution_count": 4,
   "id": "545d2374",
   "metadata": {
    "execution": {
     "iopub.execute_input": "2024-06-12T21:06:36.573883Z",
     "iopub.status.busy": "2024-06-12T21:06:36.573436Z",
     "iopub.status.idle": "2024-06-12T21:06:36.584592Z",
     "shell.execute_reply": "2024-06-12T21:06:36.583554Z"
    },
    "papermill": {
     "duration": 0.02204,
     "end_time": "2024-06-12T21:06:36.586954",
     "exception": false,
     "start_time": "2024-06-12T21:06:36.564914",
     "status": "completed"
    },
    "tags": []
   },
   "outputs": [
    {
     "data": {
      "text/html": [
       "<div>\n",
       "<style scoped>\n",
       "    .dataframe tbody tr th:only-of-type {\n",
       "        vertical-align: middle;\n",
       "    }\n",
       "\n",
       "    .dataframe tbody tr th {\n",
       "        vertical-align: top;\n",
       "    }\n",
       "\n",
       "    .dataframe thead th {\n",
       "        text-align: right;\n",
       "    }\n",
       "</style>\n",
       "<table border=\"1\" class=\"dataframe\">\n",
       "  <thead>\n",
       "    <tr style=\"text-align: right;\">\n",
       "      <th></th>\n",
       "      <th>User-ID</th>\n",
       "      <th>ISBN</th>\n",
       "      <th>Book-Rating</th>\n",
       "    </tr>\n",
       "  </thead>\n",
       "  <tbody>\n",
       "    <tr>\n",
       "      <th>0</th>\n",
       "      <td>276725</td>\n",
       "      <td>034545104X</td>\n",
       "      <td>0</td>\n",
       "    </tr>\n",
       "    <tr>\n",
       "      <th>1</th>\n",
       "      <td>276726</td>\n",
       "      <td>0155061224</td>\n",
       "      <td>5</td>\n",
       "    </tr>\n",
       "    <tr>\n",
       "      <th>2</th>\n",
       "      <td>276727</td>\n",
       "      <td>0446520802</td>\n",
       "      <td>0</td>\n",
       "    </tr>\n",
       "    <tr>\n",
       "      <th>3</th>\n",
       "      <td>276729</td>\n",
       "      <td>052165615X</td>\n",
       "      <td>3</td>\n",
       "    </tr>\n",
       "    <tr>\n",
       "      <th>4</th>\n",
       "      <td>276729</td>\n",
       "      <td>0521795028</td>\n",
       "      <td>6</td>\n",
       "    </tr>\n",
       "  </tbody>\n",
       "</table>\n",
       "</div>"
      ],
      "text/plain": [
       "   User-ID        ISBN  Book-Rating\n",
       "0   276725  034545104X            0\n",
       "1   276726  0155061224            5\n",
       "2   276727  0446520802            0\n",
       "3   276729  052165615X            3\n",
       "4   276729  0521795028            6"
      ]
     },
     "execution_count": 4,
     "metadata": {},
     "output_type": "execute_result"
    }
   ],
   "source": [
    "ratings_df.head()"
   ]
  },
  {
   "cell_type": "code",
   "execution_count": 5,
   "id": "bb27dd83",
   "metadata": {
    "execution": {
     "iopub.execute_input": "2024-06-12T21:06:36.601126Z",
     "iopub.status.busy": "2024-06-12T21:06:36.600702Z",
     "iopub.status.idle": "2024-06-12T21:06:36.615149Z",
     "shell.execute_reply": "2024-06-12T21:06:36.613557Z"
    },
    "papermill": {
     "duration": 0.024491,
     "end_time": "2024-06-12T21:06:36.617656",
     "exception": false,
     "start_time": "2024-06-12T21:06:36.593165",
     "status": "completed"
    },
    "tags": []
   },
   "outputs": [
    {
     "data": {
      "text/html": [
       "<div>\n",
       "<style scoped>\n",
       "    .dataframe tbody tr th:only-of-type {\n",
       "        vertical-align: middle;\n",
       "    }\n",
       "\n",
       "    .dataframe tbody tr th {\n",
       "        vertical-align: top;\n",
       "    }\n",
       "\n",
       "    .dataframe thead th {\n",
       "        text-align: right;\n",
       "    }\n",
       "</style>\n",
       "<table border=\"1\" class=\"dataframe\">\n",
       "  <thead>\n",
       "    <tr style=\"text-align: right;\">\n",
       "      <th></th>\n",
       "      <th>ISBN</th>\n",
       "      <th>Book-Title</th>\n",
       "      <th>Book-Author</th>\n",
       "      <th>Year-Of-Publication</th>\n",
       "      <th>Publisher</th>\n",
       "      <th>Image-URL-S</th>\n",
       "      <th>Image-URL-M</th>\n",
       "      <th>Image-URL-L</th>\n",
       "    </tr>\n",
       "  </thead>\n",
       "  <tbody>\n",
       "    <tr>\n",
       "      <th>0</th>\n",
       "      <td>0195153448</td>\n",
       "      <td>Classical Mythology</td>\n",
       "      <td>Mark P. O. Morford</td>\n",
       "      <td>2002</td>\n",
       "      <td>Oxford University Press</td>\n",
       "      <td>http://images.amazon.com/images/P/0195153448.0...</td>\n",
       "      <td>http://images.amazon.com/images/P/0195153448.0...</td>\n",
       "      <td>http://images.amazon.com/images/P/0195153448.0...</td>\n",
       "    </tr>\n",
       "    <tr>\n",
       "      <th>1</th>\n",
       "      <td>0002005018</td>\n",
       "      <td>Clara Callan</td>\n",
       "      <td>Richard Bruce Wright</td>\n",
       "      <td>2001</td>\n",
       "      <td>HarperFlamingo Canada</td>\n",
       "      <td>http://images.amazon.com/images/P/0002005018.0...</td>\n",
       "      <td>http://images.amazon.com/images/P/0002005018.0...</td>\n",
       "      <td>http://images.amazon.com/images/P/0002005018.0...</td>\n",
       "    </tr>\n",
       "    <tr>\n",
       "      <th>2</th>\n",
       "      <td>0060973129</td>\n",
       "      <td>Decision in Normandy</td>\n",
       "      <td>Carlo D'Este</td>\n",
       "      <td>1991</td>\n",
       "      <td>HarperPerennial</td>\n",
       "      <td>http://images.amazon.com/images/P/0060973129.0...</td>\n",
       "      <td>http://images.amazon.com/images/P/0060973129.0...</td>\n",
       "      <td>http://images.amazon.com/images/P/0060973129.0...</td>\n",
       "    </tr>\n",
       "    <tr>\n",
       "      <th>3</th>\n",
       "      <td>0374157065</td>\n",
       "      <td>Flu: The Story of the Great Influenza Pandemic...</td>\n",
       "      <td>Gina Bari Kolata</td>\n",
       "      <td>1999</td>\n",
       "      <td>Farrar Straus Giroux</td>\n",
       "      <td>http://images.amazon.com/images/P/0374157065.0...</td>\n",
       "      <td>http://images.amazon.com/images/P/0374157065.0...</td>\n",
       "      <td>http://images.amazon.com/images/P/0374157065.0...</td>\n",
       "    </tr>\n",
       "    <tr>\n",
       "      <th>4</th>\n",
       "      <td>0393045218</td>\n",
       "      <td>The Mummies of Urumchi</td>\n",
       "      <td>E. J. W. Barber</td>\n",
       "      <td>1999</td>\n",
       "      <td>W. W. Norton &amp;amp; Company</td>\n",
       "      <td>http://images.amazon.com/images/P/0393045218.0...</td>\n",
       "      <td>http://images.amazon.com/images/P/0393045218.0...</td>\n",
       "      <td>http://images.amazon.com/images/P/0393045218.0...</td>\n",
       "    </tr>\n",
       "  </tbody>\n",
       "</table>\n",
       "</div>"
      ],
      "text/plain": [
       "         ISBN                                         Book-Title  \\\n",
       "0  0195153448                                Classical Mythology   \n",
       "1  0002005018                                       Clara Callan   \n",
       "2  0060973129                               Decision in Normandy   \n",
       "3  0374157065  Flu: The Story of the Great Influenza Pandemic...   \n",
       "4  0393045218                             The Mummies of Urumchi   \n",
       "\n",
       "            Book-Author Year-Of-Publication                   Publisher  \\\n",
       "0    Mark P. O. Morford                2002     Oxford University Press   \n",
       "1  Richard Bruce Wright                2001       HarperFlamingo Canada   \n",
       "2          Carlo D'Este                1991             HarperPerennial   \n",
       "3      Gina Bari Kolata                1999        Farrar Straus Giroux   \n",
       "4       E. J. W. Barber                1999  W. W. Norton &amp; Company   \n",
       "\n",
       "                                         Image-URL-S  \\\n",
       "0  http://images.amazon.com/images/P/0195153448.0...   \n",
       "1  http://images.amazon.com/images/P/0002005018.0...   \n",
       "2  http://images.amazon.com/images/P/0060973129.0...   \n",
       "3  http://images.amazon.com/images/P/0374157065.0...   \n",
       "4  http://images.amazon.com/images/P/0393045218.0...   \n",
       "\n",
       "                                         Image-URL-M  \\\n",
       "0  http://images.amazon.com/images/P/0195153448.0...   \n",
       "1  http://images.amazon.com/images/P/0002005018.0...   \n",
       "2  http://images.amazon.com/images/P/0060973129.0...   \n",
       "3  http://images.amazon.com/images/P/0374157065.0...   \n",
       "4  http://images.amazon.com/images/P/0393045218.0...   \n",
       "\n",
       "                                         Image-URL-L  \n",
       "0  http://images.amazon.com/images/P/0195153448.0...  \n",
       "1  http://images.amazon.com/images/P/0002005018.0...  \n",
       "2  http://images.amazon.com/images/P/0060973129.0...  \n",
       "3  http://images.amazon.com/images/P/0374157065.0...  \n",
       "4  http://images.amazon.com/images/P/0393045218.0...  "
      ]
     },
     "execution_count": 5,
     "metadata": {},
     "output_type": "execute_result"
    }
   ],
   "source": [
    "books_df.head()"
   ]
  },
  {
   "cell_type": "markdown",
   "id": "f402c974",
   "metadata": {
    "papermill": {
     "duration": 0.006139,
     "end_time": "2024-06-12T21:06:36.630039",
     "exception": false,
     "start_time": "2024-06-12T21:06:36.623900",
     "status": "completed"
    },
    "tags": []
   },
   "source": [
    "# **Preprocessing Data**"
   ]
  },
  {
   "cell_type": "code",
   "execution_count": 6,
   "id": "306caab0",
   "metadata": {
    "execution": {
     "iopub.execute_input": "2024-06-12T21:06:36.644076Z",
     "iopub.status.busy": "2024-06-12T21:06:36.643638Z",
     "iopub.status.idle": "2024-06-12T21:06:38.810919Z",
     "shell.execute_reply": "2024-06-12T21:06:38.809028Z"
    },
    "papermill": {
     "duration": 2.177696,
     "end_time": "2024-06-12T21:06:38.813833",
     "exception": false,
     "start_time": "2024-06-12T21:06:36.636137",
     "status": "completed"
    },
    "tags": []
   },
   "outputs": [],
   "source": [
    "# Dropping Image Columns\n",
    "books_df.drop(books_df.columns[5:], axis=1, inplace=True)\n",
    "\n",
    "# Merge datasets\n",
    "merged_df = pd.merge(ratings_df, books_df, on='ISBN')\n",
    "final_df = pd.merge(merged_df, users_df, on='User-ID')\n",
    "\n",
    "# Drop NA values\n",
    "final_df.dropna(inplace=True)"
   ]
  },
  {
   "cell_type": "code",
   "execution_count": 7,
   "id": "b2280084",
   "metadata": {
    "execution": {
     "iopub.execute_input": "2024-06-12T21:06:38.828395Z",
     "iopub.status.busy": "2024-06-12T21:06:38.827990Z",
     "iopub.status.idle": "2024-06-12T21:06:39.301601Z",
     "shell.execute_reply": "2024-06-12T21:06:39.300550Z"
    },
    "papermill": {
     "duration": 0.483766,
     "end_time": "2024-06-12T21:06:39.303985",
     "exception": false,
     "start_time": "2024-06-12T21:06:38.820219",
     "status": "completed"
    },
    "tags": []
   },
   "outputs": [],
   "source": [
    "# Replace non-numeric values with '0'\n",
    "final_df['Year-Of-Publication'] = final_df['Year-Of-Publication'].replace(['Gallimard', 'DK Publishing Inc'], '0')\n",
    "\n",
    "# Convert specific columns to integers\n",
    "final_df['User-ID'] = final_df['User-ID'].astype(int)\n",
    "final_df['Book-Rating'] = final_df['Book-Rating'].astype(int)\n",
    "final_df['Age'] = final_df['Age'].astype(int)\n",
    "final_df['Year-Of-Publication'] = final_df['Year-Of-Publication'].astype(int)\n",
    "\n",
    "# Convert specific columns to strings\n",
    "final_df['ISBN'] = final_df['ISBN'].astype(str)\n",
    "final_df['Book-Title'] = final_df['Book-Title'].astype(str)\n",
    "final_df['Book-Author'] = final_df['Book-Author'].astype(str)\n",
    "final_df['Publisher'] = final_df['Publisher'].astype(str)\n",
    "final_df['Location'] = final_df['Location'].astype(str)"
   ]
  },
  {
   "cell_type": "code",
   "execution_count": 8,
   "id": "4f00f3c5",
   "metadata": {
    "execution": {
     "iopub.execute_input": "2024-06-12T21:06:39.318369Z",
     "iopub.status.busy": "2024-06-12T21:06:39.317975Z",
     "iopub.status.idle": "2024-06-12T21:06:39.323882Z",
     "shell.execute_reply": "2024-06-12T21:06:39.322790Z"
    },
    "papermill": {
     "duration": 0.015534,
     "end_time": "2024-06-12T21:06:39.325975",
     "exception": false,
     "start_time": "2024-06-12T21:06:39.310441",
     "status": "completed"
    },
    "tags": []
   },
   "outputs": [],
   "source": [
    "# Define which columns are categorical and numerical\n",
    "categorical_cols = ['ISBN', 'Book-Title', 'Book-Author', 'Publisher', 'Location']\n",
    "numerical_cols = ['User-ID', 'Age', 'Year-Of-Publication']\n",
    "\n",
    "preprocessor = ColumnTransformer(\n",
    "    transformers=[\n",
    "        ('cat', OneHotEncoder(handle_unknown='ignore'), categorical_cols),\n",
    "        ('num', StandardScaler(), numerical_cols)\n",
    "    ],\n",
    "    remainder='passthrough'\n",
    ")"
   ]
  },
  {
   "cell_type": "code",
   "execution_count": 9,
   "id": "656c2506",
   "metadata": {
    "execution": {
     "iopub.execute_input": "2024-06-12T21:06:39.341338Z",
     "iopub.status.busy": "2024-06-12T21:06:39.340950Z",
     "iopub.status.idle": "2024-06-12T21:06:40.089688Z",
     "shell.execute_reply": "2024-06-12T21:06:40.088454Z"
    },
    "papermill": {
     "duration": 0.759719,
     "end_time": "2024-06-12T21:06:40.092525",
     "exception": false,
     "start_time": "2024-06-12T21:06:39.332806",
     "status": "completed"
    },
    "tags": []
   },
   "outputs": [],
   "source": [
    "# Take a random subset a sample of the data\n",
    "subset_df = final_df.sample(frac=0.15, random_state=42)\n",
    "\n",
    "# Split data into train and test sets\n",
    "X = final_df.drop(['Book-Rating'], axis=1)\n",
    "y = final_df['Book-Rating']\n",
    "X_train, X_test, y_train, y_test = train_test_split(X, y, test_size=0.2, random_state=42)"
   ]
  },
  {
   "cell_type": "code",
   "execution_count": 10,
   "id": "842b6dd6",
   "metadata": {
    "execution": {
     "iopub.execute_input": "2024-06-12T21:06:40.107613Z",
     "iopub.status.busy": "2024-06-12T21:06:40.106307Z",
     "iopub.status.idle": "2024-06-12T21:06:47.166839Z",
     "shell.execute_reply": "2024-06-12T21:06:47.165746Z"
    },
    "papermill": {
     "duration": 7.070633,
     "end_time": "2024-06-12T21:06:47.169421",
     "exception": false,
     "start_time": "2024-06-12T21:06:40.098788",
     "status": "completed"
    },
    "tags": []
   },
   "outputs": [],
   "source": [
    "# Fit and transform preprocessing on training data, and transform on test data\n",
    "X_train_preprocessed = preprocessor.fit_transform(X_train)\n",
    "X_test_preprocessed = preprocessor.transform(X_test)"
   ]
  },
  {
   "cell_type": "markdown",
   "id": "fa0cb68b",
   "metadata": {
    "papermill": {
     "duration": 0.006992,
     "end_time": "2024-06-12T21:06:47.182700",
     "exception": false,
     "start_time": "2024-06-12T21:06:47.175708",
     "status": "completed"
    },
    "tags": []
   },
   "source": [
    "# **The Tensorflow Model**"
   ]
  },
  {
   "cell_type": "markdown",
   "id": "49d5db7b",
   "metadata": {
    "papermill": {
     "duration": 0.007327,
     "end_time": "2024-06-12T21:06:47.197175",
     "exception": false,
     "start_time": "2024-06-12T21:06:47.189848",
     "status": "completed"
    },
    "tags": []
   },
   "source": [
    "This model is predicting Book-Rating"
   ]
  },
  {
   "cell_type": "code",
   "execution_count": 11,
   "id": "20905681",
   "metadata": {
    "execution": {
     "iopub.execute_input": "2024-06-12T21:06:47.212881Z",
     "iopub.status.busy": "2024-06-12T21:06:47.212355Z",
     "iopub.status.idle": "2024-06-12T21:09:21.024686Z",
     "shell.execute_reply": "2024-06-12T21:09:21.023102Z"
    },
    "papermill": {
     "duration": 153.823129,
     "end_time": "2024-06-12T21:09:21.027195",
     "exception": false,
     "start_time": "2024-06-12T21:06:47.204066",
     "status": "completed"
    },
    "tags": []
   },
   "outputs": [
    {
     "name": "stdout",
     "output_type": "stream",
     "text": [
      "Epoch 1/10\n",
      "\u001b[1m118/118\u001b[0m \u001b[32m━━━━━━━━━━━━━━━━━━━━\u001b[0m\u001b[37m\u001b[0m \u001b[1m17s\u001b[0m 131ms/step - loss: 16.1190 - mean_squared_error: 16.1190 - val_loss: 14.8825 - val_mean_squared_error: 14.8825\n",
      "Epoch 2/10\n",
      "\u001b[1m118/118\u001b[0m \u001b[32m━━━━━━━━━━━━━━━━━━━━\u001b[0m\u001b[37m\u001b[0m \u001b[1m15s\u001b[0m 129ms/step - loss: 14.6488 - mean_squared_error: 14.6488 - val_loss: 13.3816 - val_mean_squared_error: 13.3816\n",
      "Epoch 3/10\n",
      "\u001b[1m118/118\u001b[0m \u001b[32m━━━━━━━━━━━━━━━━━━━━\u001b[0m\u001b[37m\u001b[0m \u001b[1m16s\u001b[0m 134ms/step - loss: 12.9519 - mean_squared_error: 12.9519 - val_loss: 12.7529 - val_mean_squared_error: 12.7529\n",
      "Epoch 4/10\n",
      "\u001b[1m118/118\u001b[0m \u001b[32m━━━━━━━━━━━━━━━━━━━━\u001b[0m\u001b[37m\u001b[0m \u001b[1m14s\u001b[0m 121ms/step - loss: 12.1655 - mean_squared_error: 12.1655 - val_loss: 12.5816 - val_mean_squared_error: 12.5816\n",
      "Epoch 5/10\n",
      "\u001b[1m118/118\u001b[0m \u001b[32m━━━━━━━━━━━━━━━━━━━━\u001b[0m\u001b[37m\u001b[0m \u001b[1m14s\u001b[0m 121ms/step - loss: 12.0237 - mean_squared_error: 12.0237 - val_loss: 12.4442 - val_mean_squared_error: 12.4442\n",
      "Epoch 6/10\n",
      "\u001b[1m118/118\u001b[0m \u001b[32m━━━━━━━━━━━━━━━━━━━━\u001b[0m\u001b[37m\u001b[0m \u001b[1m14s\u001b[0m 120ms/step - loss: 11.4230 - mean_squared_error: 11.4230 - val_loss: 12.8296 - val_mean_squared_error: 12.8296\n",
      "Epoch 7/10\n",
      "\u001b[1m118/118\u001b[0m \u001b[32m━━━━━━━━━━━━━━━━━━━━\u001b[0m\u001b[37m\u001b[0m \u001b[1m14s\u001b[0m 121ms/step - loss: 11.8768 - mean_squared_error: 11.8768 - val_loss: 12.2700 - val_mean_squared_error: 12.2700\n",
      "Epoch 8/10\n",
      "\u001b[1m118/118\u001b[0m \u001b[32m━━━━━━━━━━━━━━━━━━━━\u001b[0m\u001b[37m\u001b[0m \u001b[1m16s\u001b[0m 133ms/step - loss: 10.8327 - mean_squared_error: 10.8327 - val_loss: 12.3415 - val_mean_squared_error: 12.3415\n",
      "Epoch 9/10\n",
      "\u001b[1m118/118\u001b[0m \u001b[32m━━━━━━━━━━━━━━━━━━━━\u001b[0m\u001b[37m\u001b[0m \u001b[1m15s\u001b[0m 130ms/step - loss: 10.7484 - mean_squared_error: 10.7484 - val_loss: 13.1851 - val_mean_squared_error: 13.1851\n",
      "Epoch 10/10\n",
      "\u001b[1m118/118\u001b[0m \u001b[32m━━━━━━━━━━━━━━━━━━━━\u001b[0m\u001b[37m\u001b[0m \u001b[1m16s\u001b[0m 138ms/step - loss: 11.1737 - mean_squared_error: 11.1737 - val_loss: 12.8875 - val_mean_squared_error: 12.8875\n"
     ]
    }
   ],
   "source": [
    "# Define and compile the model with SGD optimizer and a lower learning rate\n",
    "model = Sequential([\n",
    "    Dense(64, activation='relu', input_shape=(X_train_preprocessed.shape[1],)),\n",
    "    Dense(32, activation='relu'),\n",
    "    Dense(1, activation='relu')\n",
    "])\n",
    "sgd = SGD(learning_rate=0.01, momentum=0.9)  # Correctly specifying the learning rate parameter\n",
    "model.compile(loss='mean_squared_error', optimizer=sgd, metrics=['mean_squared_error'])\n",
    "\n",
    "# Implement early stopping to prevent overfitting\n",
    "early_stopping = EarlyStopping(patience=3, restore_best_weights=True)\n",
    "\n",
    "# Train the model with larger batch size and early stopping\n",
    "history = model.fit(X_train_preprocessed, y_train, epochs=10, validation_split=0.2, batch_size=4096, callbacks=[early_stopping])"
   ]
  },
  {
   "cell_type": "markdown",
   "id": "08e10812",
   "metadata": {
    "papermill": {
     "duration": 0.09,
     "end_time": "2024-06-12T21:09:21.206857",
     "exception": false,
     "start_time": "2024-06-12T21:09:21.116857",
     "status": "completed"
    },
    "tags": []
   },
   "source": [
    "# **Evaluating The Model**"
   ]
  },
  {
   "cell_type": "code",
   "execution_count": 12,
   "id": "447e547b",
   "metadata": {
    "execution": {
     "iopub.execute_input": "2024-06-12T21:09:21.469594Z",
     "iopub.status.busy": "2024-06-12T21:09:21.469039Z",
     "iopub.status.idle": "2024-06-12T21:09:30.594235Z",
     "shell.execute_reply": "2024-06-12T21:09:30.592585Z"
    },
    "papermill": {
     "duration": 9.228722,
     "end_time": "2024-06-12T21:09:30.596726",
     "exception": false,
     "start_time": "2024-06-12T21:09:21.368004",
     "status": "completed"
    },
    "tags": []
   },
   "outputs": [
    {
     "name": "stdout",
     "output_type": "stream",
     "text": [
      "\u001b[1m4709/4709\u001b[0m \u001b[32m━━━━━━━━━━━━━━━━━━━━\u001b[0m\u001b[37m\u001b[0m \u001b[1m9s\u001b[0m 2ms/step - loss: 12.1986 - mean_squared_error: 12.1986\n",
      "Mean Squared Error: 12.224365234375\n"
     ]
    }
   ],
   "source": [
    "# Evaluate the model\n",
    "mse, _ = model.evaluate(X_test_preprocessed, y_test)\n",
    "print(\"Mean Squared Error:\", mse)"
   ]
  },
  {
   "cell_type": "code",
   "execution_count": 13,
   "id": "e562739f",
   "metadata": {
    "execution": {
     "iopub.execute_input": "2024-06-12T21:09:30.796054Z",
     "iopub.status.busy": "2024-06-12T21:09:30.795604Z",
     "iopub.status.idle": "2024-06-12T21:09:31.101704Z",
     "shell.execute_reply": "2024-06-12T21:09:31.100525Z"
    },
    "papermill": {
     "duration": 0.407082,
     "end_time": "2024-06-12T21:09:31.104231",
     "exception": false,
     "start_time": "2024-06-12T21:09:30.697149",
     "status": "completed"
    },
    "tags": []
   },
   "outputs": [
    {
     "data": {
      "image/png": "[encoded data removed]",
      "text/plain": [
       "<Figure size 640x480 with 1 Axes>"
      ]
     },
     "metadata": {},
     "output_type": "display_data"
    }
   ],
   "source": [
    "# Plot training & validation loss values\n",
    "plt.plot(history.history['loss'])\n",
    "plt.plot(history.history['val_loss'])\n",
    "plt.title('Model loss')\n",
    "plt.ylabel('Loss')\n",
    "plt.xlabel('Epoch')\n",
    "plt.legend(['Train', 'Validation'], loc='upper left')\n",
    "plt.show()"
   ]
  },
  {
   "cell_type": "markdown",
   "id": "86c5dbeb",
   "metadata": {
    "papermill": {
     "duration": 0.097214,
     "end_time": "2024-06-12T21:09:31.303536",
     "exception": false,
     "start_time": "2024-06-12T21:09:31.206322",
     "status": "completed"
    },
    "tags": []
   },
   "source": [
    "The model demonstates training and validationdownwards trend, a decreasing loss over epochs. Thus indicating that the model is learning from the data and improving it's predictive ability"
   ]
  },
  {
   "cell_type": "markdown",
   "id": "671b5a19",
   "metadata": {
    "papermill": {
     "duration": 0.109701,
     "end_time": "2024-06-12T21:09:31.512341",
     "exception": false,
     "start_time": "2024-06-12T21:09:31.402640",
     "status": "completed"
    },
    "tags": []
   },
   "source": [
    "# **Book Recommendation**"
   ]
  },
  {
   "cell_type": "markdown",
   "id": "bab11e16",
   "metadata": {
    "papermill": {
     "duration": 0.117624,
     "end_time": "2024-06-12T21:09:31.728593",
     "exception": false,
     "start_time": "2024-06-12T21:09:31.610969",
     "status": "completed"
    },
    "tags": []
   },
   "source": [
    "Using the model, for any given user we can predict and give recommendations on what to read next."
   ]
  },
  {
   "cell_type": "code",
   "execution_count": 14,
   "id": "d8d9f1e2",
   "metadata": {
    "execution": {
     "iopub.execute_input": "2024-06-12T21:09:31.925422Z",
     "iopub.status.busy": "2024-06-12T21:09:31.924982Z",
     "iopub.status.idle": "2024-06-12T21:09:45.258158Z",
     "shell.execute_reply": "2024-06-12T21:09:45.256528Z"
    },
    "papermill": {
     "duration": 13.433429,
     "end_time": "2024-06-12T21:09:45.260696",
     "exception": false,
     "start_time": "2024-06-12T21:09:31.827267",
     "status": "completed"
    },
    "tags": []
   },
   "outputs": [
    {
     "name": "stdout",
     "output_type": "stream",
     "text": [
      "\u001b[1m4709/4709\u001b[0m \u001b[32m━━━━━━━━━━━━━━━━━━━━\u001b[0m\u001b[37m\u001b[0m \u001b[1m11s\u001b[0m 2ms/step\n",
      "Top 5 recommended books for user 114444:\n",
      "\n",
      "Book 365626:\n",
      "Title: Shadows and Light\n",
      "Author: Anne Bishop\n",
      "Publisher: Roc\n",
      "\n",
      "Book 299488:\n",
      "Title: Jane Eyre\n",
      "Author: Charlotte Bronte\n",
      "Publisher: Dorset Press\n",
      "\n",
      "Book 368146:\n",
      "Title: Myth Alliances (Myth Adventures, 13)\n",
      "Author: Robert Asprin\n",
      "Publisher: Meisha Merlin Publishing\n",
      "\n",
      "Book 366166:\n",
      "Title: The Gunslinger (The Dark Tower, Book 1)\n",
      "Author: Stephen King\n",
      "Publisher: Viking Books\n",
      "\n",
      "Book 362616:\n",
      "Title: Going Postal : A Novel of Discworld (Pratchett, Terry)\n",
      "Author: Terry Pratchett\n",
      "Publisher: HarperCollins\n",
      "\n"
     ]
    }
   ],
   "source": [
    "predicted_ratings = model.predict(X_test_preprocessed)\n",
    "user_id = X_test.iloc[0]['User-ID']\n",
    "recommended_books = X_test.iloc[np.argsort(predicted_ratings[:,0])[::-1][:5]]\n",
    "\n",
    "def print_recommendations(recommended_books, user_id):\n",
    "    print(f\"Top 5 recommended books for user {user_id}:\\n\")\n",
    "    for i, row in recommended_books.iterrows():\n",
    "        print(f\"Book {i+1}:\")\n",
    "        print(f\"Title: {row['Book-Title']}\")\n",
    "        print(f\"Author: {row['Book-Author']}\")\n",
    "        print(f\"Publisher: {row['Publisher']}\")\n",
    "        print()\n",
    "\n",
    "# Print the recommended books for the user\n",
    "print_recommendations(recommended_books, user_id)"
   ]
  },
  {
   "cell_type": "markdown",
   "id": "15361e99",
   "metadata": {
    "papermill": {
     "duration": 0.114522,
     "end_time": "2024-06-12T21:09:45.487132",
     "exception": false,
     "start_time": "2024-06-12T21:09:45.372610",
     "status": "completed"
    },
    "tags": []
   },
   "source": [
    "# **Saving the Model**"
   ]
  },
  {
   "cell_type": "code",
   "execution_count": 15,
   "id": "6a5e9d53",
   "metadata": {
    "execution": {
     "iopub.execute_input": "2024-06-12T21:09:45.716345Z",
     "iopub.status.busy": "2024-06-12T21:09:45.715926Z",
     "iopub.status.idle": "2024-06-12T21:09:46.028180Z",
     "shell.execute_reply": "2024-06-12T21:09:46.026952Z"
    },
    "papermill": {
     "duration": 0.427952,
     "end_time": "2024-06-12T21:09:46.030809",
     "exception": false,
     "start_time": "2024-06-12T21:09:45.602857",
     "status": "completed"
    },
    "tags": []
   },
   "outputs": [],
   "source": [
    "# Save the model\n",
    "model.save('tf_model.h5')"
   ]
  }
 ],
 "metadata": {
  "kaggle": {
   "accelerator": "none",
   "dataSources": [
    {
     "datasetId": 5199309,
     "sourceId": 8674523,
     "sourceType": "datasetVersion"
    },
    {
     "datasetId": 5199318,
     "sourceId": 8674533,
     "sourceType": "datasetVersion"
    },
    {
     "datasetId": 5199322,
     "sourceId": 8674537,
     "sourceType": "datasetVersion"
    }
   ],
   "dockerImageVersionId": 30732,
   "isGpuEnabled": false,
   "isInternetEnabled": false,
   "language": "python",
   "sourceType": "notebook"
  },
  "kernelspec": {
   "display_name": "Python 3",
   "language": "python",
   "name": "python3"
  },
  "language_info": {
   "codemirror_mode": {
    "name": "ipython",
    "version": 3
   },
   "file_extension": ".py",
   "mimetype": "text/x-python",
   "name": "python",
   "nbconvert_exporter": "python",
   "pygments_lexer": "ipython3",
   "version": "3.10.13"
  },
  "papermill": {
   "default_parameters": {},
   "duration": 215.074525,
   "end_time": "2024-06-12T21:09:48.071074",
   "environment_variables": {},
   "exception": null,
   "input_path": "__notebook__.ipynb",
   "output_path": "__notebook__.ipynb",
   "parameters": {},
   "start_time": "2024-06-12T21:06:12.996549",
   "version": "2.5.0"
  }
 },
 "nbformat": 4,
 "nbformat_minor": 5
}
