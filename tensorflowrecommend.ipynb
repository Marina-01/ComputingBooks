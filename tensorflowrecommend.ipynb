{
 "cells": [
  {
   "cell_type": "markdown",
   "id": "a3acabf5",
   "metadata": {
    "papermill": {
     "duration": 0.006535,
     "end_time": "2024-06-12T17:44:27.951106",
     "exception": false,
     "start_time": "2024-06-12T17:44:27.944571",
     "status": "completed"
    },
    "tags": []
   },
   "source": [
    "# **Importing Data**"
   ]
  },
  {
   "cell_type": "code",
   "execution_count": 1,
   "id": "9d1fe0c3",
   "metadata": {
    "execution": {
     "iopub.execute_input": "2024-06-12T17:44:27.964469Z",
     "iopub.status.busy": "2024-06-12T17:44:27.964036Z",
     "iopub.status.idle": "2024-06-12T17:44:45.787443Z",
     "shell.execute_reply": "2024-06-12T17:44:45.786321Z"
    },
    "papermill": {
     "duration": 17.833384,
     "end_time": "2024-06-12T17:44:45.790412",
     "exception": false,
     "start_time": "2024-06-12T17:44:27.957028",
     "status": "completed"
    },
    "tags": []
   },
   "outputs": [
    {
     "name": "stderr",
     "output_type": "stream",
     "text": [
      "2024-06-12 17:44:33.192961: E external/local_xla/xla/stream_executor/cuda/cuda_dnn.cc:9261] Unable to register cuDNN factory: Attempting to register factory for plugin cuDNN when one has already been registered\n",
      "2024-06-12 17:44:33.193096: E external/local_xla/xla/stream_executor/cuda/cuda_fft.cc:607] Unable to register cuFFT factory: Attempting to register factory for plugin cuFFT when one has already been registered\n",
      "2024-06-12 17:44:33.378751: E external/local_xla/xla/stream_executor/cuda/cuda_blas.cc:1515] Unable to register cuBLAS factory: Attempting to register factory for plugin cuBLAS when one has already been registered\n"
     ]
    }
   ],
   "source": [
    "import pandas as pd\n",
    "from sklearn.model_selection import train_test_split\n",
    "from sklearn.preprocessing import StandardScaler, OneHotEncoder\n",
    "from sklearn.compose import ColumnTransformer\n",
    "from keras.models import Sequential\n",
    "from keras.layers import Dense"
   ]
  },
  {
   "cell_type": "code",
   "execution_count": 2,
   "id": "1a6767cb",
   "metadata": {
    "execution": {
     "iopub.execute_input": "2024-06-12T17:44:45.804415Z",
     "iopub.status.busy": "2024-06-12T17:44:45.803639Z",
     "iopub.status.idle": "2024-06-12T17:44:50.419882Z",
     "shell.execute_reply": "2024-06-12T17:44:50.418662Z"
    },
    "papermill": {
     "duration": 4.626222,
     "end_time": "2024-06-12T17:44:50.422557",
     "exception": false,
     "start_time": "2024-06-12T17:44:45.796335",
     "status": "completed"
    },
    "tags": []
   },
   "outputs": [
    {
     "name": "stderr",
     "output_type": "stream",
     "text": [
      "/tmp/ipykernel_18/1342344810.py:3: DtypeWarning: Columns (3) have mixed types. Specify dtype option on import or set low_memory=False.\n",
      "  books_df = pd.read_csv(\"/kaggle/input/books-csv/Books.csv\")\n"
     ]
    }
   ],
   "source": [
    "users_df = pd.read_csv(\"/kaggle/input/users-csv/Users.csv\")\n",
    "ratings_df = pd.read_csv(\"/kaggle/input/ratings-csv/Ratings.csv\")\n",
    "books_df = pd.read_csv(\"/kaggle/input/books-csv/Books.csv\")"
   ]
  },
  {
   "cell_type": "code",
   "execution_count": 3,
   "id": "24053157",
   "metadata": {
    "execution": {
     "iopub.execute_input": "2024-06-12T17:44:50.436262Z",
     "iopub.status.busy": "2024-06-12T17:44:50.435817Z",
     "iopub.status.idle": "2024-06-12T17:44:50.461536Z",
     "shell.execute_reply": "2024-06-12T17:44:50.460246Z"
    },
    "papermill": {
     "duration": 0.035703,
     "end_time": "2024-06-12T17:44:50.464301",
     "exception": false,
     "start_time": "2024-06-12T17:44:50.428598",
     "status": "completed"
    },
    "tags": []
   },
   "outputs": [
    {
     "data": {
      "text/html": [
       "<div>\n",
       "<style scoped>\n",
       "    .dataframe tbody tr th:only-of-type {\n",
       "        vertical-align: middle;\n",
       "    }\n",
       "\n",
       "    .dataframe tbody tr th {\n",
       "        vertical-align: top;\n",
       "    }\n",
       "\n",
       "    .dataframe thead th {\n",
       "        text-align: right;\n",
       "    }\n",
       "</style>\n",
       "<table border=\"1\" class=\"dataframe\">\n",
       "  <thead>\n",
       "    <tr style=\"text-align: right;\">\n",
       "      <th></th>\n",
       "      <th>User-ID</th>\n",
       "      <th>Location</th>\n",
       "      <th>Age</th>\n",
       "    </tr>\n",
       "  </thead>\n",
       "  <tbody>\n",
       "    <tr>\n",
       "      <th>0</th>\n",
       "      <td>1</td>\n",
       "      <td>nyc, new york, usa</td>\n",
       "      <td>NaN</td>\n",
       "    </tr>\n",
       "    <tr>\n",
       "      <th>1</th>\n",
       "      <td>2</td>\n",
       "      <td>stockton, california, usa</td>\n",
       "      <td>18.0</td>\n",
       "    </tr>\n",
       "    <tr>\n",
       "      <th>2</th>\n",
       "      <td>3</td>\n",
       "      <td>moscow, yukon territory, russia</td>\n",
       "      <td>NaN</td>\n",
       "    </tr>\n",
       "    <tr>\n",
       "      <th>3</th>\n",
       "      <td>4</td>\n",
       "      <td>porto, v.n.gaia, portugal</td>\n",
       "      <td>17.0</td>\n",
       "    </tr>\n",
       "    <tr>\n",
       "      <th>4</th>\n",
       "      <td>5</td>\n",
       "      <td>farnborough, hants, united kingdom</td>\n",
       "      <td>NaN</td>\n",
       "    </tr>\n",
       "  </tbody>\n",
       "</table>\n",
       "</div>"
      ],
      "text/plain": [
       "   User-ID                            Location   Age\n",
       "0        1                  nyc, new york, usa   NaN\n",
       "1        2           stockton, california, usa  18.0\n",
       "2        3     moscow, yukon territory, russia   NaN\n",
       "3        4           porto, v.n.gaia, portugal  17.0\n",
       "4        5  farnborough, hants, united kingdom   NaN"
      ]
     },
     "execution_count": 3,
     "metadata": {},
     "output_type": "execute_result"
    }
   ],
   "source": [
    "users_df.head()"
   ]
  },
  {
   "cell_type": "code",
   "execution_count": 4,
   "id": "0501c469",
   "metadata": {
    "execution": {
     "iopub.execute_input": "2024-06-12T17:44:50.479721Z",
     "iopub.status.busy": "2024-06-12T17:44:50.479300Z",
     "iopub.status.idle": "2024-06-12T17:44:50.491199Z",
     "shell.execute_reply": "2024-06-12T17:44:50.490053Z"
    },
    "papermill": {
     "duration": 0.022832,
     "end_time": "2024-06-12T17:44:50.493729",
     "exception": false,
     "start_time": "2024-06-12T17:44:50.470897",
     "status": "completed"
    },
    "tags": []
   },
   "outputs": [
    {
     "data": {
      "text/html": [
       "<div>\n",
       "<style scoped>\n",
       "    .dataframe tbody tr th:only-of-type {\n",
       "        vertical-align: middle;\n",
       "    }\n",
       "\n",
       "    .dataframe tbody tr th {\n",
       "        vertical-align: top;\n",
       "    }\n",
       "\n",
       "    .dataframe thead th {\n",
       "        text-align: right;\n",
       "    }\n",
       "</style>\n",
       "<table border=\"1\" class=\"dataframe\">\n",
       "  <thead>\n",
       "    <tr style=\"text-align: right;\">\n",
       "      <th></th>\n",
       "      <th>User-ID</th>\n",
       "      <th>ISBN</th>\n",
       "      <th>Book-Rating</th>\n",
       "    </tr>\n",
       "  </thead>\n",
       "  <tbody>\n",
       "    <tr>\n",
       "      <th>0</th>\n",
       "      <td>276725</td>\n",
       "      <td>034545104X</td>\n",
       "      <td>0</td>\n",
       "    </tr>\n",
       "    <tr>\n",
       "      <th>1</th>\n",
       "      <td>276726</td>\n",
       "      <td>0155061224</td>\n",
       "      <td>5</td>\n",
       "    </tr>\n",
       "    <tr>\n",
       "      <th>2</th>\n",
       "      <td>276727</td>\n",
       "      <td>0446520802</td>\n",
       "      <td>0</td>\n",
       "    </tr>\n",
       "    <tr>\n",
       "      <th>3</th>\n",
       "      <td>276729</td>\n",
       "      <td>052165615X</td>\n",
       "      <td>3</td>\n",
       "    </tr>\n",
       "    <tr>\n",
       "      <th>4</th>\n",
       "      <td>276729</td>\n",
       "      <td>0521795028</td>\n",
       "      <td>6</td>\n",
       "    </tr>\n",
       "  </tbody>\n",
       "</table>\n",
       "</div>"
      ],
      "text/plain": [
       "   User-ID        ISBN  Book-Rating\n",
       "0   276725  034545104X            0\n",
       "1   276726  0155061224            5\n",
       "2   276727  0446520802            0\n",
       "3   276729  052165615X            3\n",
       "4   276729  0521795028            6"
      ]
     },
     "execution_count": 4,
     "metadata": {},
     "output_type": "execute_result"
    }
   ],
   "source": [
    "ratings_df.head()"
   ]
  },
  {
   "cell_type": "code",
   "execution_count": 5,
   "id": "1f00a7d6",
   "metadata": {
    "execution": {
     "iopub.execute_input": "2024-06-12T17:44:50.508293Z",
     "iopub.status.busy": "2024-06-12T17:44:50.507873Z",
     "iopub.status.idle": "2024-06-12T17:44:50.523804Z",
     "shell.execute_reply": "2024-06-12T17:44:50.522387Z"
    },
    "papermill": {
     "duration": 0.026209,
     "end_time": "2024-06-12T17:44:50.526287",
     "exception": false,
     "start_time": "2024-06-12T17:44:50.500078",
     "status": "completed"
    },
    "tags": []
   },
   "outputs": [
    {
     "data": {
      "text/html": [
       "<div>\n",
       "<style scoped>\n",
       "    .dataframe tbody tr th:only-of-type {\n",
       "        vertical-align: middle;\n",
       "    }\n",
       "\n",
       "    .dataframe tbody tr th {\n",
       "        vertical-align: top;\n",
       "    }\n",
       "\n",
       "    .dataframe thead th {\n",
       "        text-align: right;\n",
       "    }\n",
       "</style>\n",
       "<table border=\"1\" class=\"dataframe\">\n",
       "  <thead>\n",
       "    <tr style=\"text-align: right;\">\n",
       "      <th></th>\n",
       "      <th>ISBN</th>\n",
       "      <th>Book-Title</th>\n",
       "      <th>Book-Author</th>\n",
       "      <th>Year-Of-Publication</th>\n",
       "      <th>Publisher</th>\n",
       "      <th>Image-URL-S</th>\n",
       "      <th>Image-URL-M</th>\n",
       "      <th>Image-URL-L</th>\n",
       "    </tr>\n",
       "  </thead>\n",
       "  <tbody>\n",
       "    <tr>\n",
       "      <th>0</th>\n",
       "      <td>0195153448</td>\n",
       "      <td>Classical Mythology</td>\n",
       "      <td>Mark P. O. Morford</td>\n",
       "      <td>2002</td>\n",
       "      <td>Oxford University Press</td>\n",
       "      <td>http://images.amazon.com/images/P/0195153448.0...</td>\n",
       "      <td>http://images.amazon.com/images/P/0195153448.0...</td>\n",
       "      <td>http://images.amazon.com/images/P/0195153448.0...</td>\n",
       "    </tr>\n",
       "    <tr>\n",
       "      <th>1</th>\n",
       "      <td>0002005018</td>\n",
       "      <td>Clara Callan</td>\n",
       "      <td>Richard Bruce Wright</td>\n",
       "      <td>2001</td>\n",
       "      <td>HarperFlamingo Canada</td>\n",
       "      <td>http://images.amazon.com/images/P/0002005018.0...</td>\n",
       "      <td>http://images.amazon.com/images/P/0002005018.0...</td>\n",
       "      <td>http://images.amazon.com/images/P/0002005018.0...</td>\n",
       "    </tr>\n",
       "    <tr>\n",
       "      <th>2</th>\n",
       "      <td>0060973129</td>\n",
       "      <td>Decision in Normandy</td>\n",
       "      <td>Carlo D'Este</td>\n",
       "      <td>1991</td>\n",
       "      <td>HarperPerennial</td>\n",
       "      <td>http://images.amazon.com/images/P/0060973129.0...</td>\n",
       "      <td>http://images.amazon.com/images/P/0060973129.0...</td>\n",
       "      <td>http://images.amazon.com/images/P/0060973129.0...</td>\n",
       "    </tr>\n",
       "    <tr>\n",
       "      <th>3</th>\n",
       "      <td>0374157065</td>\n",
       "      <td>Flu: The Story of the Great Influenza Pandemic...</td>\n",
       "      <td>Gina Bari Kolata</td>\n",
       "      <td>1999</td>\n",
       "      <td>Farrar Straus Giroux</td>\n",
       "      <td>http://images.amazon.com/images/P/0374157065.0...</td>\n",
       "      <td>http://images.amazon.com/images/P/0374157065.0...</td>\n",
       "      <td>http://images.amazon.com/images/P/0374157065.0...</td>\n",
       "    </tr>\n",
       "    <tr>\n",
       "      <th>4</th>\n",
       "      <td>0393045218</td>\n",
       "      <td>The Mummies of Urumchi</td>\n",
       "      <td>E. J. W. Barber</td>\n",
       "      <td>1999</td>\n",
       "      <td>W. W. Norton &amp;amp; Company</td>\n",
       "      <td>http://images.amazon.com/images/P/0393045218.0...</td>\n",
       "      <td>http://images.amazon.com/images/P/0393045218.0...</td>\n",
       "      <td>http://images.amazon.com/images/P/0393045218.0...</td>\n",
       "    </tr>\n",
       "  </tbody>\n",
       "</table>\n",
       "</div>"
      ],
      "text/plain": [
       "         ISBN                                         Book-Title  \\\n",
       "0  0195153448                                Classical Mythology   \n",
       "1  0002005018                                       Clara Callan   \n",
       "2  0060973129                               Decision in Normandy   \n",
       "3  0374157065  Flu: The Story of the Great Influenza Pandemic...   \n",
       "4  0393045218                             The Mummies of Urumchi   \n",
       "\n",
       "            Book-Author Year-Of-Publication                   Publisher  \\\n",
       "0    Mark P. O. Morford                2002     Oxford University Press   \n",
       "1  Richard Bruce Wright                2001       HarperFlamingo Canada   \n",
       "2          Carlo D'Este                1991             HarperPerennial   \n",
       "3      Gina Bari Kolata                1999        Farrar Straus Giroux   \n",
       "4       E. J. W. Barber                1999  W. W. Norton &amp; Company   \n",
       "\n",
       "                                         Image-URL-S  \\\n",
       "0  http://images.amazon.com/images/P/0195153448.0...   \n",
       "1  http://images.amazon.com/images/P/0002005018.0...   \n",
       "2  http://images.amazon.com/images/P/0060973129.0...   \n",
       "3  http://images.amazon.com/images/P/0374157065.0...   \n",
       "4  http://images.amazon.com/images/P/0393045218.0...   \n",
       "\n",
       "                                         Image-URL-M  \\\n",
       "0  http://images.amazon.com/images/P/0195153448.0...   \n",
       "1  http://images.amazon.com/images/P/0002005018.0...   \n",
       "2  http://images.amazon.com/images/P/0060973129.0...   \n",
       "3  http://images.amazon.com/images/P/0374157065.0...   \n",
       "4  http://images.amazon.com/images/P/0393045218.0...   \n",
       "\n",
       "                                         Image-URL-L  \n",
       "0  http://images.amazon.com/images/P/0195153448.0...  \n",
       "1  http://images.amazon.com/images/P/0002005018.0...  \n",
       "2  http://images.amazon.com/images/P/0060973129.0...  \n",
       "3  http://images.amazon.com/images/P/0374157065.0...  \n",
       "4  http://images.amazon.com/images/P/0393045218.0...  "
      ]
     },
     "execution_count": 5,
     "metadata": {},
     "output_type": "execute_result"
    }
   ],
   "source": [
    "books_df.head()"
   ]
  },
  {
   "cell_type": "markdown",
   "id": "cdb2d9d1",
   "metadata": {
    "papermill": {
     "duration": 0.006477,
     "end_time": "2024-06-12T17:44:50.539486",
     "exception": false,
     "start_time": "2024-06-12T17:44:50.533009",
     "status": "completed"
    },
    "tags": []
   },
   "source": [
    "# **Preprocessing Data**"
   ]
  },
  {
   "cell_type": "code",
   "execution_count": 6,
   "id": "06b99f4a",
   "metadata": {
    "execution": {
     "iopub.execute_input": "2024-06-12T17:44:50.554716Z",
     "iopub.status.busy": "2024-06-12T17:44:50.554292Z",
     "iopub.status.idle": "2024-06-12T17:44:50.579793Z",
     "shell.execute_reply": "2024-06-12T17:44:50.578067Z"
    },
    "papermill": {
     "duration": 0.036749,
     "end_time": "2024-06-12T17:44:50.583070",
     "exception": false,
     "start_time": "2024-06-12T17:44:50.546321",
     "status": "completed"
    },
    "tags": []
   },
   "outputs": [],
   "source": [
    "# Dropping Image Columns\n",
    "books_df.drop(books_df.columns[5:], axis=1, inplace=True)"
   ]
  },
  {
   "cell_type": "code",
   "execution_count": 7,
   "id": "81bbb21d",
   "metadata": {
    "execution": {
     "iopub.execute_input": "2024-06-12T17:44:50.598938Z",
     "iopub.status.busy": "2024-06-12T17:44:50.598525Z",
     "iopub.status.idle": "2024-06-12T17:44:50.612370Z",
     "shell.execute_reply": "2024-06-12T17:44:50.611161Z"
    },
    "papermill": {
     "duration": 0.024803,
     "end_time": "2024-06-12T17:44:50.614855",
     "exception": false,
     "start_time": "2024-06-12T17:44:50.590052",
     "status": "completed"
    },
    "tags": []
   },
   "outputs": [
    {
     "data": {
      "text/html": [
       "<div>\n",
       "<style scoped>\n",
       "    .dataframe tbody tr th:only-of-type {\n",
       "        vertical-align: middle;\n",
       "    }\n",
       "\n",
       "    .dataframe tbody tr th {\n",
       "        vertical-align: top;\n",
       "    }\n",
       "\n",
       "    .dataframe thead th {\n",
       "        text-align: right;\n",
       "    }\n",
       "</style>\n",
       "<table border=\"1\" class=\"dataframe\">\n",
       "  <thead>\n",
       "    <tr style=\"text-align: right;\">\n",
       "      <th></th>\n",
       "      <th>ISBN</th>\n",
       "      <th>Book-Title</th>\n",
       "      <th>Book-Author</th>\n",
       "      <th>Year-Of-Publication</th>\n",
       "      <th>Publisher</th>\n",
       "    </tr>\n",
       "  </thead>\n",
       "  <tbody>\n",
       "    <tr>\n",
       "      <th>0</th>\n",
       "      <td>0195153448</td>\n",
       "      <td>Classical Mythology</td>\n",
       "      <td>Mark P. O. Morford</td>\n",
       "      <td>2002</td>\n",
       "      <td>Oxford University Press</td>\n",
       "    </tr>\n",
       "    <tr>\n",
       "      <th>1</th>\n",
       "      <td>0002005018</td>\n",
       "      <td>Clara Callan</td>\n",
       "      <td>Richard Bruce Wright</td>\n",
       "      <td>2001</td>\n",
       "      <td>HarperFlamingo Canada</td>\n",
       "    </tr>\n",
       "    <tr>\n",
       "      <th>2</th>\n",
       "      <td>0060973129</td>\n",
       "      <td>Decision in Normandy</td>\n",
       "      <td>Carlo D'Este</td>\n",
       "      <td>1991</td>\n",
       "      <td>HarperPerennial</td>\n",
       "    </tr>\n",
       "    <tr>\n",
       "      <th>3</th>\n",
       "      <td>0374157065</td>\n",
       "      <td>Flu: The Story of the Great Influenza Pandemic...</td>\n",
       "      <td>Gina Bari Kolata</td>\n",
       "      <td>1999</td>\n",
       "      <td>Farrar Straus Giroux</td>\n",
       "    </tr>\n",
       "    <tr>\n",
       "      <th>4</th>\n",
       "      <td>0393045218</td>\n",
       "      <td>The Mummies of Urumchi</td>\n",
       "      <td>E. J. W. Barber</td>\n",
       "      <td>1999</td>\n",
       "      <td>W. W. Norton &amp;amp; Company</td>\n",
       "    </tr>\n",
       "  </tbody>\n",
       "</table>\n",
       "</div>"
      ],
      "text/plain": [
       "         ISBN                                         Book-Title  \\\n",
       "0  0195153448                                Classical Mythology   \n",
       "1  0002005018                                       Clara Callan   \n",
       "2  0060973129                               Decision in Normandy   \n",
       "3  0374157065  Flu: The Story of the Great Influenza Pandemic...   \n",
       "4  0393045218                             The Mummies of Urumchi   \n",
       "\n",
       "            Book-Author Year-Of-Publication                   Publisher  \n",
       "0    Mark P. O. Morford                2002     Oxford University Press  \n",
       "1  Richard Bruce Wright                2001       HarperFlamingo Canada  \n",
       "2          Carlo D'Este                1991             HarperPerennial  \n",
       "3      Gina Bari Kolata                1999        Farrar Straus Giroux  \n",
       "4       E. J. W. Barber                1999  W. W. Norton &amp; Company  "
      ]
     },
     "execution_count": 7,
     "metadata": {},
     "output_type": "execute_result"
    }
   ],
   "source": [
    "books_df.head()"
   ]
  },
  {
   "cell_type": "code",
   "execution_count": 8,
   "id": "bb4c81d3",
   "metadata": {
    "execution": {
     "iopub.execute_input": "2024-06-12T17:44:50.631024Z",
     "iopub.status.busy": "2024-06-12T17:44:50.630644Z",
     "iopub.status.idle": "2024-06-12T17:44:53.751081Z",
     "shell.execute_reply": "2024-06-12T17:44:53.749824Z"
    },
    "papermill": {
     "duration": 3.132136,
     "end_time": "2024-06-12T17:44:53.754112",
     "exception": false,
     "start_time": "2024-06-12T17:44:50.621976",
     "status": "completed"
    },
    "tags": []
   },
   "outputs": [],
   "source": [
    "# Merge datasets\n",
    "merged_df = pd.merge(ratings_df, books_df, on='ISBN')\n",
    "final_df = pd.merge(merged_df, users_df, on='User-ID')\n",
    "\n",
    "# Drop NA values\n",
    "final_df.dropna(inplace=True)\n",
    "\n",
    "# Replace non-numeric values with '0'\n",
    "final_df['Year-Of-Publication'] = final_df['Year-Of-Publication'].replace(['Gallimard', 'DK Publishing Inc'], '0')\n",
    "\n",
    "# Convert specific columns to integers\n",
    "final_df['User-ID'] = final_df['User-ID'].astype(int)\n",
    "final_df['Book-Rating'] = final_df['Book-Rating'].astype(int)\n",
    "final_df['Age'] = final_df['Age'].astype(int)\n",
    "\n",
    "# Convert Year-Of-Publication column to integers\n",
    "final_df['Year-Of-Publication'] = final_df['Year-Of-Publication'].astype(int)\n",
    "\n",
    "# Convert specific columns to strings\n",
    "final_df['ISBN'] = final_df['ISBN'].astype(str)\n",
    "final_df['Book-Title'] = final_df['Book-Title'].astype(str)\n",
    "final_df['Book-Author'] = final_df['Book-Author'].astype(str)\n",
    "final_df['Publisher'] = final_df['Publisher'].astype(str)\n",
    "final_df['Location'] = final_df['Location'].astype(str)\n",
    "\n",
    "# Define which columns are categorical and numerical\n",
    "categorical_cols = ['ISBN', 'Book-Title', 'Book-Author', 'Publisher', 'Location']\n",
    "numerical_cols = ['User-ID', 'Age', 'Year-Of-Publication']\n",
    "\n",
    "preprocessor = ColumnTransformer(\n",
    "    transformers=[\n",
    "        ('cat', OneHotEncoder(handle_unknown='ignore'), categorical_cols),\n",
    "        ('num', StandardScaler(), numerical_cols)\n",
    "    ],\n",
    "    remainder='passthrough'\n",
    ")"
   ]
  },
  {
   "cell_type": "code",
   "execution_count": 9,
   "id": "0c9e241a",
   "metadata": {
    "execution": {
     "iopub.execute_input": "2024-06-12T17:44:53.771153Z",
     "iopub.status.busy": "2024-06-12T17:44:53.770714Z",
     "iopub.status.idle": "2024-06-12T17:44:54.413380Z",
     "shell.execute_reply": "2024-06-12T17:44:54.412004Z"
    },
    "papermill": {
     "duration": 0.654686,
     "end_time": "2024-06-12T17:44:54.416333",
     "exception": false,
     "start_time": "2024-06-12T17:44:53.761647",
     "status": "completed"
    },
    "tags": []
   },
   "outputs": [],
   "source": [
    "# Split data into train and test sets\n",
    "X = final_df.drop(['Book-Rating'], axis=1)\n",
    "y = final_df['Book-Rating']\n",
    "X_train, X_test, y_train, y_test = train_test_split(X, y, test_size=0.2, random_state=42)"
   ]
  },
  {
   "cell_type": "code",
   "execution_count": 10,
   "id": "341407b0",
   "metadata": {
    "execution": {
     "iopub.execute_input": "2024-06-12T17:44:54.432528Z",
     "iopub.status.busy": "2024-06-12T17:44:54.432014Z",
     "iopub.status.idle": "2024-06-12T17:45:02.087416Z",
     "shell.execute_reply": "2024-06-12T17:45:02.086049Z"
    },
    "papermill": {
     "duration": 7.667168,
     "end_time": "2024-06-12T17:45:02.090640",
     "exception": false,
     "start_time": "2024-06-12T17:44:54.423472",
     "status": "completed"
    },
    "tags": []
   },
   "outputs": [],
   "source": [
    "# Fit and transform preprocessing on training data, and transform on test data\n",
    "X_train_preprocessed = preprocessor.fit_transform(X_train)\n",
    "X_test_preprocessed = preprocessor.transform(X_test)"
   ]
  },
  {
   "cell_type": "markdown",
   "id": "44fb35a7",
   "metadata": {
    "papermill": {
     "duration": 0.006993,
     "end_time": "2024-06-12T17:45:02.104790",
     "exception": false,
     "start_time": "2024-06-12T17:45:02.097797",
     "status": "completed"
    },
    "tags": []
   },
   "source": [
    "# **Building The Tensorflow Model**"
   ]
  },
  {
   "cell_type": "code",
   "execution_count": 11,
   "id": "75117f29",
   "metadata": {
    "execution": {
     "iopub.execute_input": "2024-06-12T17:45:02.121816Z",
     "iopub.status.busy": "2024-06-12T17:45:02.121385Z",
     "iopub.status.idle": "2024-06-12T18:26:35.435325Z",
     "shell.execute_reply": "2024-06-12T18:26:35.434076Z"
    },
    "papermill": {
     "duration": 2493.325782,
     "end_time": "2024-06-12T18:26:35.437881",
     "exception": false,
     "start_time": "2024-06-12T17:45:02.112099",
     "status": "completed"
    },
    "tags": []
   },
   "outputs": [
    {
     "name": "stderr",
     "output_type": "stream",
     "text": [
      "/opt/conda/lib/python3.10/site-packages/keras/src/layers/core/dense.py:87: UserWarning: Do not pass an `input_shape`/`input_dim` argument to a layer. When using Sequential models, prefer using an `Input(shape)` object as the first layer in the model instead.\n",
      "  super().__init__(activity_regularizer=activity_regularizer, **kwargs)\n"
     ]
    },
    {
     "name": "stdout",
     "output_type": "stream",
     "text": [
      "Epoch 1/10\n",
      "\u001b[1m914/914\u001b[0m \u001b[32m━━━━━━━━━━━━━━━━━━━━\u001b[0m\u001b[37m\u001b[0m \u001b[1m246s\u001b[0m 267ms/step - loss: 14.6232 - mean_squared_error: 14.6232 - val_loss: 12.3537 - val_mean_squared_error: 12.3537\n",
      "Epoch 2/10\n",
      "\u001b[1m914/914\u001b[0m \u001b[32m━━━━━━━━━━━━━━━━━━━━\u001b[0m\u001b[37m\u001b[0m \u001b[1m246s\u001b[0m 269ms/step - loss: 9.0676 - mean_squared_error: 9.0676 - val_loss: 13.0558 - val_mean_squared_error: 13.0558\n",
      "Epoch 3/10\n",
      "\u001b[1m914/914\u001b[0m \u001b[32m━━━━━━━━━━━━━━━━━━━━\u001b[0m\u001b[37m\u001b[0m \u001b[1m247s\u001b[0m 270ms/step - loss: 6.4749 - mean_squared_error: 6.4749 - val_loss: 13.5926 - val_mean_squared_error: 13.5926\n",
      "Epoch 4/10\n",
      "\u001b[1m914/914\u001b[0m \u001b[32m━━━━━━━━━━━━━━━━━━━━\u001b[0m\u001b[37m\u001b[0m \u001b[1m247s\u001b[0m 271ms/step - loss: 5.0737 - mean_squared_error: 5.0737 - val_loss: 14.4576 - val_mean_squared_error: 14.4576\n",
      "Epoch 5/10\n",
      "\u001b[1m914/914\u001b[0m \u001b[32m━━━━━━━━━━━━━━━━━━━━\u001b[0m\u001b[37m\u001b[0m \u001b[1m248s\u001b[0m 271ms/step - loss: 4.1592 - mean_squared_error: 4.1592 - val_loss: 14.6065 - val_mean_squared_error: 14.6065\n",
      "Epoch 6/10\n",
      "\u001b[1m914/914\u001b[0m \u001b[32m━━━━━━━━━━━━━━━━━━━━\u001b[0m\u001b[37m\u001b[0m \u001b[1m249s\u001b[0m 272ms/step - loss: 3.4818 - mean_squared_error: 3.4818 - val_loss: 15.1312 - val_mean_squared_error: 15.1312\n",
      "Epoch 7/10\n",
      "\u001b[1m914/914\u001b[0m \u001b[32m━━━━━━━━━━━━━━━━━━━━\u001b[0m\u001b[37m\u001b[0m \u001b[1m250s\u001b[0m 274ms/step - loss: 2.9585 - mean_squared_error: 2.9585 - val_loss: 15.4397 - val_mean_squared_error: 15.4397\n",
      "Epoch 8/10\n",
      "\u001b[1m914/914\u001b[0m \u001b[32m━━━━━━━━━━━━━━━━━━━━\u001b[0m\u001b[37m\u001b[0m \u001b[1m251s\u001b[0m 274ms/step - loss: 2.5506 - mean_squared_error: 2.5506 - val_loss: 16.1167 - val_mean_squared_error: 16.1167\n",
      "Epoch 9/10\n",
      "\u001b[1m914/914\u001b[0m \u001b[32m━━━━━━━━━━━━━━━━━━━━\u001b[0m\u001b[37m\u001b[0m \u001b[1m251s\u001b[0m 275ms/step - loss: 2.2329 - mean_squared_error: 2.2329 - val_loss: 16.2199 - val_mean_squared_error: 16.2199\n",
      "Epoch 10/10\n",
      "\u001b[1m914/914\u001b[0m \u001b[32m━━━━━━━━━━━━━━━━━━━━\u001b[0m\u001b[37m\u001b[0m \u001b[1m251s\u001b[0m 275ms/step - loss: 2.0017 - mean_squared_error: 2.0017 - val_loss: 16.3639 - val_mean_squared_error: 16.3639\n",
      "\u001b[1m4709/4709\u001b[0m \u001b[32m━━━━━━━━━━━━━━━━━━━━\u001b[0m\u001b[37m\u001b[0m \u001b[1m7s\u001b[0m 2ms/step - loss: 16.3001 - mean_squared_error: 16.3001\n",
      "Mean Squared Error: 16.303211212158203\n"
     ]
    }
   ],
   "source": [
    "# Define and compile the model\n",
    "model = Sequential([\n",
    "    Dense(64, activation='relu', input_shape=(X_train_preprocessed.shape[1],)),\n",
    "    Dense(32, activation='relu'),\n",
    "    Dense(1, activation='relu')\n",
    "])\n",
    "model.compile(loss='mean_squared_error', optimizer='adam', metrics=['mean_squared_error'])\n",
    "\n",
    "# Train the model\n",
    "history = model.fit(X_train_preprocessed, y_train, epochs=10, validation_split=0.2, batch_size=528)\n",
    "\n",
    "# Evaluate the model\n",
    "mse, _ = model.evaluate(X_test_preprocessed, y_test)\n",
    "print(\"Mean Squared Error:\", mse)\n",
    "\n",
    "\n",
    "\n"
   ]
  },
  {
   "cell_type": "code",
   "execution_count": 12,
   "id": "0b4db96f",
   "metadata": {
    "execution": {
     "iopub.execute_input": "2024-06-12T18:26:37.356791Z",
     "iopub.status.busy": "2024-06-12T18:26:37.356357Z",
     "iopub.status.idle": "2024-06-12T18:26:37.913405Z",
     "shell.execute_reply": "2024-06-12T18:26:37.912173Z"
    },
    "papermill": {
     "duration": 1.48285,
     "end_time": "2024-06-12T18:26:37.916232",
     "exception": false,
     "start_time": "2024-06-12T18:26:36.433382",
     "status": "completed"
    },
    "tags": []
   },
   "outputs": [],
   "source": [
    "model.save('tf_model.h5')"
   ]
  }
 ],
 "metadata": {
  "kaggle": {
   "accelerator": "none",
   "dataSources": [
    {
     "datasetId": 5199309,
     "sourceId": 8674523,
     "sourceType": "datasetVersion"
    },
    {
     "datasetId": 5199318,
     "sourceId": 8674533,
     "sourceType": "datasetVersion"
    },
    {
     "datasetId": 5199322,
     "sourceId": 8674537,
     "sourceType": "datasetVersion"
    }
   ],
   "dockerImageVersionId": 30732,
   "isGpuEnabled": false,
   "isInternetEnabled": false,
   "language": "python",
   "sourceType": "notebook"
  },
  "kernelspec": {
   "display_name": "Python 3",
   "language": "python",
   "name": "python3"
  },
  "language_info": {
   "codemirror_mode": {
    "name": "ipython",
    "version": 3
   },
   "file_extension": ".py",
   "mimetype": "text/x-python",
   "name": "python",
   "nbconvert_exporter": "python",
   "pygments_lexer": "ipython3",
   "version": "3.10.13"
  },
  "papermill": {
   "default_parameters": {},
   "duration": 2536.857722,
   "end_time": "2024-06-12T18:26:41.519060",
   "environment_variables": {},
   "exception": null,
   "input_path": "__notebook__.ipynb",
   "output_path": "__notebook__.ipynb",
   "parameters": {},
   "start_time": "2024-06-12T17:44:24.661338",
   "version": "2.5.0"
  }
 },
 "nbformat": 4,
 "nbformat_minor": 5
}
